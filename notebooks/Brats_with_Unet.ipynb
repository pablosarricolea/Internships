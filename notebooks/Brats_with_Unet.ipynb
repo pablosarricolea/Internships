{
 "cells": [
  {
   "cell_type": "code",
   "execution_count": 1,
   "metadata": {
    "executionInfo": {
     "elapsed": 600,
     "status": "ok",
     "timestamp": 1607558031996,
     "user": {
      "displayName": "PABLO SARRICOLEA VALENCIANO",
      "photoUrl": "",
      "userId": "03055843788957929628"
     },
     "user_tz": -60
    },
    "id": "ncjggBBMM8Q6"
   },
   "outputs": [],
   "source": [
    "#Run from server\n",
    "\n",
    "import os\n",
    "os.environ[\"CUDA_VISIBLE_DEVICES\"]=\"k,m\""
   ]
  },
  {
   "cell_type": "code",
   "execution_count": null,
   "metadata": {},
   "outputs": [],
   "source": []
  },
  {
   "cell_type": "code",
   "execution_count": 2,
   "metadata": {},
   "outputs": [
    {
     "data": {
      "text/plain": [
       "'k,m'"
      ]
     },
     "execution_count": 2,
     "metadata": {},
     "output_type": "execute_result"
    }
   ],
   "source": [
    "os.environ[\"CUDA_VISIBLE_DEVICES\"]"
   ]
  },
  {
   "cell_type": "code",
   "execution_count": null,
   "metadata": {
    "colab": {
     "base_uri": "https://localhost:8080/"
    },
    "executionInfo": {
     "elapsed": 34726,
     "status": "ok",
     "timestamp": 1607558066128,
     "user": {
      "displayName": "PABLO SARRICOLEA VALENCIANO",
      "photoUrl": "",
      "userId": "03055843788957929628"
     },
     "user_tz": -60
    },
    "id": "6Wd25fj01M7m",
    "outputId": "c6741e13-7d7b-4ddc-e70a-fd86eeb9c918"
   },
   "outputs": [],
   "source": [
    "#Run from google colab\n",
    "\n",
    "!pip install SimpleITK\n",
    "\n",
    "from google.colab import drive\n",
    "drive.mount('/content/gdrive')\n"
   ]
  },
  {
   "cell_type": "code",
   "execution_count": null,
   "metadata": {
    "colab": {
     "base_uri": "https://localhost:8080/"
    },
    "executionInfo": {
     "elapsed": 35105,
     "status": "ok",
     "timestamp": 1607558066514,
     "user": {
      "displayName": "PABLO SARRICOLEA VALENCIANO",
      "photoUrl": "",
      "userId": "03055843788957929628"
     },
     "user_tz": -60
    },
    "id": "EqJdeezG6fLH",
    "outputId": "a97c460b-21a3-455d-e4cf-a5457654cc07"
   },
   "outputs": [],
   "source": [
    "%cd /content/gdrive/MyDrive/2 TUM/Project/Internships/notebooks"
   ]
  },
  {
   "cell_type": "code",
   "execution_count": null,
   "metadata": {
    "executionInfo": {
     "elapsed": 38609,
     "status": "ok",
     "timestamp": 1607558070023,
     "user": {
      "displayName": "PABLO SARRICOLEA VALENCIANO",
      "photoUrl": "",
      "userId": "03055843788957929628"
     },
     "user_tz": -60
    },
    "id": "BjUoBkLpM8RI"
   },
   "outputs": [],
   "source": [
    "import os\n",
    "import matplotlib.pyplot as plt\n",
    "import numpy as np\n",
    "import SimpleITK as sitk\n",
    "import tensorflow as tf\n",
    "from sklearn.model_selection import train_test_split\n",
    "import cv2\n",
    "import random"
   ]
  },
  {
   "cell_type": "code",
   "execution_count": null,
   "metadata": {
    "executionInfo": {
     "elapsed": 38606,
     "status": "ok",
     "timestamp": 1607558070023,
     "user": {
      "displayName": "PABLO SARRICOLEA VALENCIANO",
      "photoUrl": "",
      "userId": "03055843788957929628"
     },
     "user_tz": -60
    },
    "id": "MNqOa1hrM8RJ"
   },
   "outputs": [],
   "source": [
    "import tensorflow as tf\n",
    "from tensorflow.keras import backend as K\n",
    "from tensorflow.keras.layers import Activation, Lambda, GlobalAveragePooling2D, concatenate\n",
    "from tensorflow.keras.layers import UpSampling2D, Conv2D, Dropout, MaxPooling2D, Conv2DTranspose\n",
    "from tensorflow.keras.layers import Dense, Flatten, Input\n",
    "from tensorflow.keras.models import Model, Sequential, load_model\n",
    "from tensorflow.keras.callbacks import ModelCheckpoint, ReduceLROnPlateau"
   ]
  },
  {
   "cell_type": "code",
   "execution_count": null,
   "metadata": {},
   "outputs": [],
   "source": [
    "tf.__version__"
   ]
  },
  {
   "cell_type": "code",
   "execution_count": null,
   "metadata": {
    "executionInfo": {
     "elapsed": 38604,
     "status": "ok",
     "timestamp": 1607558070024,
     "user": {
      "displayName": "PABLO SARRICOLEA VALENCIANO",
      "photoUrl": "",
      "userId": "03055843788957929628"
     },
     "user_tz": -60
    },
    "id": "SDFXJLz2M8RK"
   },
   "outputs": [],
   "source": [
    "def myshow(img):\n",
    "    nda = sitk.GetArrayViewFromImage(img)\n",
    "    plt.imshow(nda)"
   ]
  },
  {
   "cell_type": "code",
   "execution_count": null,
   "metadata": {
    "executionInfo": {
     "elapsed": 44810,
     "status": "ok",
     "timestamp": 1607558076233,
     "user": {
      "displayName": "PABLO SARRICOLEA VALENCIANO",
      "photoUrl": "",
      "userId": "03055843788957929628"
     },
     "user_tz": -60
    },
    "id": "bY-nywdUM8RK"
   },
   "outputs": [],
   "source": [
    "img_t1 = sitk.ReadImage(os.path.join(\"..\", \"data\",\"MICCAI_BraTS2020_TrainingData\",\"BraTS20_Training_001\",\"BraTS20_Training_001_t1.nii.gz\"))\n",
    "img_t1ce = sitk.ReadImage(os.path.join(\"..\", \"data\",\"MICCAI_BraTS2020_TrainingData\",\"BraTS20_Training_001\",\"BraTS20_Training_001_t1ce.nii.gz\"))\n",
    "img_t2 = sitk.ReadImage(os.path.join(\"..\", \"data\",\"MICCAI_BraTS2020_TrainingData\",\"BraTS20_Training_001\",\"BraTS20_Training_001_t2.nii.gz\"))\n",
    "img_flair = sitk.ReadImage(os.path.join(\"..\", \"data\",\"MICCAI_BraTS2020_TrainingData\",\"BraTS20_Training_001\",\"BraTS20_Training_001_flair.nii.gz\"))\n",
    "img_seg = sitk.ReadImage(os.path.join(\"..\", \"data\",\"MICCAI_BraTS2020_TrainingData\",\"BraTS20_Training_001\",\"BraTS20_Training_001_seg.nii.gz\"))\n",
    "\n",
    "\"\"\"\n",
    "img_t1 = sitk.Cast(img_t1,sitk.sitkFloat32) #to ceonvert png to sitk\n",
    "img_t1ce = sitk.Cast(img_t1ce,sitk.sitkFloat32) #to ceonvert png to sitk\n",
    "img_t2 = sitk.Cast(img,sitk_t2.sitkFloat32) #to ceonvert png to sitk\n",
    "img_flair = sitk.Cast(img_flair,sitk.sitkFloat32) #to ceonvert png to sitk\n",
    "img_seg = sitk.Cast(img_seg,sitk.sitkFloat32) #to ceonvert png to sitk\n",
    "\n",
    "print(img.GetSize())\n",
    "print(img.GetOrigin()) # the top left corner usually\n",
    "print(img.GetSpacing()) #physical size of each pixel\n",
    "print(img.GetDirection()) #3D matrix\n",
    "print(img.GetNumberOfComponentsPerPixel()) #number of channels in one pixel\n",
    "\"\"\"\n",
    "\n",
    "width = img_t1.GetWidth()\n",
    "height = img_t1.GetHeight()\n",
    "depth = img_t1.GetDepth()\n",
    "\n",
    "nda_t1 = sitk.GetArrayViewFromImage(img_t1)\n",
    "nda_t1ce = sitk.GetArrayViewFromImage(img_t1ce)\n",
    "nda_t2 = sitk.GetArrayViewFromImage(img_t2)\n",
    "nda_flair = sitk.GetArrayViewFromImage(img_flair)\n",
    "nda_seg = sitk.GetArrayViewFromImage(img_seg)"
   ]
  },
  {
   "cell_type": "code",
   "execution_count": null,
   "metadata": {
    "colab": {
     "base_uri": "https://localhost:8080/",
     "height": 159
    },
    "executionInfo": {
     "elapsed": 45373,
     "status": "ok",
     "timestamp": 1607558076801,
     "user": {
      "displayName": "PABLO SARRICOLEA VALENCIANO",
      "photoUrl": "",
      "userId": "03055843788957929628"
     },
     "user_tz": -60
    },
    "id": "Wx_XucrQM8RK",
    "outputId": "1cc1770a-0265-4393-fb6c-b1141aa850e2",
    "scrolled": true
   },
   "outputs": [],
   "source": [
    "npa_zslice_t1 = sitk.GetArrayViewFromImage(img_t1)[int(depth/2),:,:]\n",
    "npa_zslice_t1ce = sitk.GetArrayViewFromImage(img_t1ce)[int(depth/2),:,:]\n",
    "npa_zslice_t2 = sitk.GetArrayViewFromImage(img_t2)[int(depth/2),:,:]\n",
    "npa_zslice_flair = sitk.GetArrayViewFromImage(img_flair)[int(depth/2),:,:]\n",
    "npa_zslice_seg = sitk.GetArrayViewFromImage(img_seg)[int(depth/2),:,:]\n",
    "\n",
    "fig = plt.figure(figsize=(10,3))\n",
    "\n",
    "fig.add_subplot(1,5,1)\n",
    "plt.imshow(npa_zslice_t1, cmap=plt.cm.Greys_r)\n",
    "plt.title('T1', fontsize=10)\n",
    "plt.axis('off')\n",
    "\n",
    "fig.add_subplot(1,5,2)\n",
    "plt.imshow(npa_zslice_t1ce, cmap=plt.cm.Greys_r)\n",
    "plt.title('T1_ce', fontsize=10)\n",
    "plt.axis('off')\n",
    "\n",
    "fig.add_subplot(1,5,3)\n",
    "plt.imshow(npa_zslice_t2, cmap=plt.cm.Greys_r)\n",
    "plt.title('T2', fontsize=10)\n",
    "plt.axis('off')\n",
    "\n",
    "fig.add_subplot(1,5,4)\n",
    "plt.imshow(npa_zslice_flair, cmap=plt.cm.Greys_r)\n",
    "plt.title('flair', fontsize=10)\n",
    "plt.axis('off')\n",
    "\n",
    "fig.add_subplot(1,5,5)\n",
    "plt.imshow(npa_zslice_seg, cmap=plt.cm.Greys_r)\n",
    "plt.title('Segmentation', fontsize=10)\n",
    "plt.axis('off')"
   ]
  },
  {
   "cell_type": "code",
   "execution_count": null,
   "metadata": {
    "colab": {
     "base_uri": "https://localhost:8080/"
    },
    "executionInfo": {
     "elapsed": 67347,
     "status": "ok",
     "timestamp": 1607558098781,
     "user": {
      "displayName": "PABLO SARRICOLEA VALENCIANO",
      "photoUrl": "",
      "userId": "03055843788957929628"
     },
     "user_tz": -60
    },
    "id": "sO-rakilM8RL",
    "outputId": "efa67ef7-06b8-4f58-a83f-af84e612a2d9"
   },
   "outputs": [],
   "source": [
    "ImgDir = os.path.join(\"..\",\"data\",\"MICCAI_BraTS2020_TrainingData\")\n",
    "features_path = list()\n",
    "labels_path = list()\n",
    "count = 0\n",
    "limit = 100\n",
    "\n",
    "for folder in os.listdir(ImgDir):\n",
    "  count +=1\n",
    "  if 'Training' in folder and count<limit:\n",
    "        new_dir = os.path.join(ImgDir,folder)\n",
    "        data = os.listdir(new_dir)\n",
    "        for files in data:\n",
    "            if 'flair' in files:\n",
    "                features_path.append(os.path.join(new_dir, files))\n",
    "            if 'seg' in files:\n",
    "                labels_path.append(os.path.join(new_dir, files))\n",
    "\n",
    "print(len(features_path))\n",
    "print(len(labels_path))\n",
    "\n",
    "X=features_path\n",
    "Y=labels_path"
   ]
  },
  {
   "cell_type": "code",
   "execution_count": null,
   "metadata": {
    "executionInfo": {
     "elapsed": 67344,
     "status": "ok",
     "timestamp": 1607558098783,
     "user": {
      "displayName": "PABLO SARRICOLEA VALENCIANO",
      "photoUrl": "",
      "userId": "03055843788957929628"
     },
     "user_tz": -60
    },
    "id": "gDRuLlbeM8RN"
   },
   "outputs": [],
   "source": [
    "X_train, X_val, y_train, y_val = train_test_split(X, Y, test_size=0.1, random_state=1)"
   ]
  },
  {
   "cell_type": "code",
   "execution_count": null,
   "metadata": {
    "colab": {
     "base_uri": "https://localhost:8080/"
    },
    "executionInfo": {
     "elapsed": 76276,
     "status": "ok",
     "timestamp": 1607558107719,
     "user": {
      "displayName": "PABLO SARRICOLEA VALENCIANO",
      "photoUrl": "",
      "userId": "03055843788957929628"
     },
     "user_tz": -60
    },
    "id": "m1pT2NROM8RN",
    "outputId": "9ff75ca6-8a4e-4398-ca46-2da598a46576"
   },
   "outputs": [],
   "source": [
    "def keras_generator_train_val_test(batch_size, choice=\"train\"):\n",
    "\n",
    "    if choice == \"train\":\n",
    "        X = X_train\n",
    "        Y = y_train\n",
    "    elif choice == \"val\":\n",
    "        X = X_val\n",
    "        y = y_val\n",
    "    else:\n",
    "        print(\"Invalid Option\")\n",
    "        return False\n",
    "    \n",
    "    while True:\n",
    "        x_batch = []\n",
    "        y_batch = []\n",
    "\n",
    "        for i in range(batch_size):\n",
    "            \n",
    "            rand = random.choice(range(len(X)))\n",
    "\n",
    "            x_path = X[rand]\n",
    "            y_path = Y[rand]\n",
    "\n",
    "            x = sitk.GetArrayViewFromImage(sitk.ReadImage(x_path))\n",
    "            y = sitk.GetArrayViewFromImage(sitk.ReadImage(y_path))\n",
    "            \n",
    "            x = np.moveaxis(x, [0, 1, 2], [-1, -2, -3])\n",
    "            y = np.moveaxis(y, [0, 1, 2], [-1, -2, -3])\n",
    "\n",
    "            x = np.resize(x,(240,240,128,1))\n",
    "            y = np.resize(y,(240,240,128,1))\n",
    "\n",
    "            x_batch.append(x)\n",
    "            y_batch.append(y)\n",
    "\n",
    "        x_batch = np.array(x_batch)\n",
    "        y_batch = np.array(y_batch)\n",
    "\n",
    "        yield x_batch, y_batch\n",
    "\n",
    "for x, y in keras_generator_train_val_test(10, choice=\"train\"):\n",
    "    print(x.shape, y.shape)\n",
    "    break"
   ]
  },
  {
   "cell_type": "code",
   "execution_count": null,
   "metadata": {
    "executionInfo": {
     "elapsed": 76272,
     "status": "ok",
     "timestamp": 1607558107720,
     "user": {
      "displayName": "PABLO SARRICOLEA VALENCIANO",
      "photoUrl": "",
      "userId": "03055843788957929628"
     },
     "user_tz": -60
    },
    "id": "5AE-jpQsmAxT"
   },
   "outputs": [],
   "source": [
    "# Here, `x_set` is list of path to the images\n",
    "# and `y_set` are the associated classes.\n",
    "\n",
    "import math\n",
    "#import keras\n",
    "import datetime\n",
    "import tensorflow.python.keras\n",
    "\n",
    "batch_size = 1\n",
    "class BRATSSequence(tensorflow.keras.utils.Sequence):\n",
    "\n",
    "    def __init__(self, x_set, y_set, batch_size):\n",
    "        self.x, self.y = X, Y\n",
    "        self.batch_size = batch_size\n",
    "\n",
    "    def __len__(self):\n",
    "        return math.ceil(len(self.x) / self.batch_size)\n",
    "\n",
    "    def __getitem__(self, idx):\n",
    "        batch_x = self.x[idx * self.batch_size:(idx + 1) *\n",
    "        self.batch_size]\n",
    "        batch_y = self.y[idx * self.batch_size:(idx + 1) *\n",
    "        self.batch_size]\n",
    "\n",
    "        x_batch = []\n",
    "        y_batch = []\n",
    "\n",
    "        for i in range(batch_size):\n",
    "            \n",
    "            rand = random.choice(range(len(X)))\n",
    "\n",
    "            x_path = X[rand]\n",
    "            y_path = Y[rand]\n",
    "\n",
    "            x = sitk.GetArrayViewFromImage(sitk.ReadImage(x_path)) / 255.\n",
    "            y = sitk.GetArrayViewFromImage(sitk.ReadImage(y_path)) / 255.\n",
    "            \n",
    "            x = np.moveaxis(x, [0, 1, 2], [-1, -2, -3])\n",
    "            y = np.moveaxis(y, [0, 1, 2], [-1, -2, -3])\n",
    "\n",
    "            x = np.resize(x,(240,240,128,1))\n",
    "            y = np.resize(y,(240,240,128,1))\n",
    "\n",
    "            x_batch.append(x)\n",
    "            y_batch.append(y)\n",
    "\n",
    "        x_batch = np.array(x_batch)\n",
    "        y_batch = np.array(y_batch)\n",
    "\n",
    "        return x_batch, y_batch\n",
    "\n",
    "    def on_epoch_end(self, epoch, logs=None):\n",
    "        \n",
    "        print(\"epoch finished\")\n",
    "\n",
    "sequence = BRATSSequence(X, Y, batch_size = 1)"
   ]
  },
  {
   "cell_type": "code",
   "execution_count": null,
   "metadata": {
    "colab": {
     "base_uri": "https://localhost:8080/"
    },
    "executionInfo": {
     "elapsed": 76270,
     "status": "ok",
     "timestamp": 1607558107721,
     "user": {
      "displayName": "PABLO SARRICOLEA VALENCIANO",
      "photoUrl": "",
      "userId": "03055843788957929628"
     },
     "user_tz": -60
    },
    "id": "QzeEUINMhjtk",
    "outputId": "e9a92223-6438-4297-9327-90e7d2415512"
   },
   "outputs": [],
   "source": [
    "sequence"
   ]
  },
  {
   "cell_type": "code",
   "execution_count": null,
   "metadata": {
    "colab": {
     "base_uri": "https://localhost:8080/",
     "height": 307
    },
    "executionInfo": {
     "elapsed": 77008,
     "status": "ok",
     "timestamp": 1607558108465,
     "user": {
      "displayName": "PABLO SARRICOLEA VALENCIANO",
      "photoUrl": "",
      "userId": "03055843788957929628"
     },
     "user_tz": -60
    },
    "id": "Qry-rSxxgcF5",
    "outputId": "5ad3bd44-150a-4bd2-dc29-00eea06a8541"
   },
   "outputs": [],
   "source": [
    "plt.figure(figsize=(20,10))\n",
    "\n",
    "plt.subplot(241)\n",
    "plt.title('Flair')\n",
    "plt.axis('off')\n",
    "plt.imshow(x[9, :, :, 100,0])\n",
    "plt.subplot(242)\n",
    "plt.title('Ground Truth(Full)')\n",
    "plt.axis('off')\n",
    "plt.imshow(y[9, :, :, 100,0])"
   ]
  },
  {
   "cell_type": "code",
   "execution_count": null,
   "metadata": {
    "executionInfo": {
     "elapsed": 77004,
     "status": "ok",
     "timestamp": 1607558108466,
     "user": {
      "displayName": "PABLO SARRICOLEA VALENCIANO",
      "photoUrl": "",
      "userId": "03055843788957929628"
     },
     "user_tz": -60
    },
    "id": "Quhuu1rnM8RQ"
   },
   "outputs": [],
   "source": [
    "from tensorflow.keras.models import Model\n",
    "from tensorflow.keras.layers import Input, concatenate, Conv3D, MaxPooling3D, Conv3DTranspose, AveragePooling3D, ZeroPadding3D, SpatialDropout3D\n",
    "from tensorflow.keras.optimizers import RMSprop, Adam, SGD\n",
    "from tensorflow.keras.callbacks import ModelCheckpoint, CSVLogger\n",
    "from tensorflow.keras import backend as K\n",
    "from tensorflow.keras.regularizers import l2\n",
    "#from tensorflow.python.keras.utils import plot_model"
   ]
  },
  {
   "cell_type": "code",
   "execution_count": null,
   "metadata": {
    "executionInfo": {
     "elapsed": 77000,
     "status": "ok",
     "timestamp": 1607558108466,
     "user": {
      "displayName": "PABLO SARRICOLEA VALENCIANO",
      "photoUrl": "",
      "userId": "03055843788957929628"
     },
     "user_tz": -60
    },
    "id": "XuSPQoM-M8RQ"
   },
   "outputs": [],
   "source": [
    "img_depth=128\n",
    "img_rows=240\n",
    "img_cols=240\n",
    "\n",
    "smooth = 0.005 \n",
    "\n",
    "def dice_coef(y_true, y_pred):\n",
    "    y_true_f = K.flatten(y_true)\n",
    "    y_pred_f = K.flatten(y_pred)\n",
    "    intersection = K.sum(y_true_f * y_pred_f)\n",
    "    return (2. * intersection + smooth) / (K.sum(y_true_f) + K.sum(y_pred_f) + smooth)\n",
    "\n",
    "\n",
    "def dice_coef_loss(y_true, y_pred):\n",
    "    return 1-dice_coef(y_true, y_pred)\n",
    "    \n",
    "\n",
    "def get_unet():\n",
    "    inputs = Input((img_rows, img_cols, img_depth,1))\n",
    "    conv1 = Conv3D(32, (3, 3, 3), activation='relu', padding='same')(inputs)\n",
    "    conv1 = SpatialDropout3D(0.5)(conv1)\n",
    "    conv1 = Conv3D(32, (3, 3, 3), activation='relu', padding='same')(conv1)\n",
    "    pool1 = MaxPooling3D(pool_size=(2, 2, 2))(conv1)\n",
    "\n",
    "    conv2 = Conv3D(64, (3, 3, 3), activation='relu', padding='same')(pool1)\n",
    "    conv2 = SpatialDropout3D(0.5)(conv2)\n",
    "    conv2 = Conv3D(64, (3, 3, 3), activation='relu', padding='same')(conv2)\n",
    "    pool2 = MaxPooling3D(pool_size=(2, 2, 2))(conv2)\n",
    "\n",
    "    conv3 = Conv3D(128, (3, 3, 3), activation='relu', padding='same')(pool2)\n",
    "    conv3 = SpatialDropout3D(0.5)(conv3)\n",
    "    conv3 = Conv3D(128, (3, 3, 3), activation='relu', padding='same')(conv3)\n",
    "    pool3 = MaxPooling3D(pool_size=(2, 2, 2))(conv3)\n",
    "\n",
    "    conv4 = Conv3D(256, (3, 3, 3), activation='relu', padding='same')(pool3)\n",
    "    conv4 = SpatialDropout3D(0.5)(conv4)\n",
    "    conv4 = Conv3D(256, (3, 3, 3), activation='relu', padding='same')(conv4)\n",
    "    pool4 = MaxPooling3D(pool_size=(2, 2, 2))(conv4)\n",
    "\n",
    "    conv5 = Conv3D(512, (3, 3, 3), activation='relu', padding='same')(pool4)\n",
    "    conv5 = SpatialDropout3D(0.5)(conv5)\n",
    "    conv5 = Conv3D(512, (3, 3, 3), activation='relu', padding='same')(conv5)\n",
    "\n",
    "    up6 = concatenate([Conv3DTranspose(256, (2, 2, 2), strides=(2, 2, 2), padding='same')(conv5), conv4], axis=4)\n",
    "    conv6 = Conv3D(256, (3, 3, 3), activation='relu', padding='same')(up6)\n",
    "    #conv6 = SpatialDropout3D(0.5)(conv6)\n",
    "    conv6 = Conv3D(256, (3, 3, 3), activation='relu', padding='same')(conv6)\n",
    "\n",
    "    up7 = concatenate([Conv3DTranspose(128, (2, 2, 2), strides=(2, 2, 2), padding='same')(conv6), conv3], axis=4)\n",
    "    conv7 = Conv3D(128, (3, 3, 3), activation='relu', padding='same')(up7)\n",
    "    #conv7 = SpatialDropout3D(0.5)(conv7)\n",
    "    conv7 = Conv3D(128, (3, 3, 3), activation='relu', padding='same')(conv7)\n",
    "\n",
    "    up8 = concatenate([Conv3DTranspose(64, (2, 2, 2), strides=(2, 2, 2), padding='same')(conv7), conv2], axis=4)\n",
    "    conv8 = Conv3D(64, (3, 3, 3), activation='relu', padding='same')(up8)\n",
    "    #conv8 = SpatialDropout3D(0.5)(conv8)\n",
    "    conv8 = Conv3D(64, (3, 3, 3), activation='relu', padding='same')(conv8)\n",
    "\n",
    "    up9 = concatenate([Conv3DTranspose(32, (2, 2, 2), strides=(2, 2, 2), padding='same')(conv8), conv1], axis=4)\n",
    "    conv9 = Conv3D(32, (3, 3, 3), activation='relu', padding='same')(up9)\n",
    "    #conv9 = SpatialDropout3D(0.5)(conv9)\n",
    "    conv9 = Conv3D(32, (3, 3, 3), activation='relu', padding='same')(conv9)\n",
    "\n",
    "    conv10 = Conv3D(1, (1, 1, 1), activation='sigmoid')(conv9)\n",
    "\n",
    "\n",
    "    model = Model(inputs=[inputs], outputs=[conv10])\n",
    "\n",
    "    model.summary()\n",
    "    #plot_model(model, to_file='model.png')\n",
    "\n",
    "    model.compile(optimizer=Adam(lr=1e-5, beta_1=0.9, beta_2=0.999, epsilon=1e-08, decay=0.000000199), loss=dice_coef_loss, metrics=[dice_coef])\n",
    "\n",
    "    return model\n"
   ]
  },
  {
   "cell_type": "code",
   "execution_count": null,
   "metadata": {
    "colab": {
     "base_uri": "https://localhost:8080/"
    },
    "executionInfo": {
     "elapsed": 77652,
     "status": "ok",
     "timestamp": 1607558109121,
     "user": {
      "displayName": "PABLO SARRICOLEA VALENCIANO",
      "photoUrl": "",
      "userId": "03055843788957929628"
     },
     "user_tz": -60
    },
    "id": "P8JAPvdkM8RS",
    "outputId": "dd2f79c6-942b-400a-ad70-e732baae12a1"
   },
   "outputs": [],
   "source": [
    "model2=get_unet()\n",
    "model2.summary"
   ]
  },
  {
   "cell_type": "code",
   "execution_count": null,
   "metadata": {
    "id": "hSz_UubJjP2W"
   },
   "outputs": [],
   "source": [
    "model2.fit(x=sequence, epochs=1, verbose=2, shuffle=True)"
   ]
  },
  {
   "cell_type": "code",
   "execution_count": null,
   "metadata": {
    "id": "4-BeUkyKM8RR"
   },
   "outputs": [],
   "source": [
    "import datetime\n",
    "\n",
    "class MyCustomCallback(tf.keras.callbacks.Callback):\n",
    "    def on_train_begin(self, epoch, logs={}):\n",
    "\n",
    "        res_dir = \"intermediate_results_black_background\"\n",
    "\n",
    "        try:\n",
    "            os.makedirs(res_dir)\n",
    "        except:\n",
    "            print(f\"{res_dir} directory already exist\")\n",
    "\n",
    "        print('Training: epoch {} begins at {}'.format(epoch, datetime.datetime.now().time()))\n",
    "\n",
    "    def on_epoch_end(self, epoch, logs=None):\n",
    "        res_dir = \"intermediate_results_black_background/\"\n",
    "        print('Training: epoch {} ends at {}'.format(epoch, datetime.datetime.now().time()))\n",
    "        \n",
    "        for x_test, y_test in keras_generator_train_val_test(batch_size, choice=\"test\"):\n",
    "            break\n",
    "        p = np.reshape(x_test[0], (1, 512, 512, 3))\n",
    "        prediction = self.model.predict(p)\n",
    "\n",
    "        x_img = f\"{res_dir}{epoch}_X_input.jpg\"\n",
    "        y_img = f\"{res_dir}{epoch}_Y_truth.jpg\"\n",
    "        predicted_img = f\"{res_dir}{epoch}_Y_predicted.jpg\"\n",
    "\n",
    "        cv2.imwrite(x_img, x_test[0] * 255.)\n",
    "        cv2.imwrite(y_img, y_test['seg'][0] * 255.)\n",
    "        cv2.imwrite(predicted_img, prediction[0] * 255.)"
   ]
  },
  {
   "cell_type": "code",
   "execution_count": null,
   "metadata": {
    "id": "2W7zyRVeM8RT"
   },
   "outputs": [],
   "source": [
    "model_name = \"..\\\\data\\\\Unet_black_background_47_epochs.h5\"\n",
    "\n",
    "batch_size = 2;\n",
    "\n",
    "#modelcheckpoint = ModelCheckpoint(model_name,\n",
    "                                  monitor='val_loss',\n",
    "                                  mode='auto',\n",
    "                                  verbose=1,\n",
    "#                                  save_best_only=True)\n",
    "\n",
    "lr_callback = ReduceLROnPlateau(min_lr=0.000001)\n",
    "\n",
    "#callback_list = [modelcheckpoint, lr_callback, MyCustomCallback()]\n",
    "\n",
    "history = model.fit_generator(\n",
    "    keras_generator_train_val_test(batch_size, choice=\"train\"),\n",
    "    validation_data = keras_generator_train_val_test(batch_size, choice=\"val\"),\n",
    "    validation_steps = 100,\n",
    "    steps_per_epoch=100,\n",
    "    epochs=epochs,\n",
    "    verbose=1, \n",
    "    shuffle=True\n",
    "    #callbacks = callback_list,\n",
    ")"
   ]
  },
  {
   "cell_type": "code",
   "execution_count": null,
   "metadata": {
    "id": "IjzS92XpM8RT"
   },
   "outputs": [],
   "source": []
  },
  {
   "cell_type": "code",
   "execution_count": null,
   "metadata": {
    "id": "lnknhEgvM8RT"
   },
   "outputs": [],
   "source": []
  },
  {
   "cell_type": "code",
   "execution_count": null,
   "metadata": {
    "id": "Ps25gWvlM8RT"
   },
   "outputs": [],
   "source": []
  },
  {
   "cell_type": "code",
   "execution_count": null,
   "metadata": {
    "id": "d11KGAPuM8RU"
   },
   "outputs": [],
   "source": []
  },
  {
   "cell_type": "code",
   "execution_count": null,
   "metadata": {
    "id": "EH1AqM94M8RU"
   },
   "outputs": [],
   "source": []
  },
  {
   "cell_type": "code",
   "execution_count": null,
   "metadata": {
    "id": "fxR32i1gM8RU"
   },
   "outputs": [],
   "source": []
  },
  {
   "cell_type": "code",
   "execution_count": null,
   "metadata": {
    "id": "mZcnijZTM8RU"
   },
   "outputs": [],
   "source": []
  },
  {
   "cell_type": "code",
   "execution_count": null,
   "metadata": {
    "id": "JL_jjkKHM8RU"
   },
   "outputs": [],
   "source": [
    "\n",
    "def keras_generator_train_val_test(batch_size, choice=\"train\"):\n",
    "\n",
    "    if choice == \"train\":\n",
    "        X = X_train\n",
    "        y = y_train\n",
    "    elif choice == \"val\":\n",
    "        X = X_val\n",
    "        y = y_val\n",
    "    else:\n",
    "        print(\"Invalid Option\")\n",
    "        return False\n",
    "        \n",
    "    while True:\n",
    "        x_batch = []\n",
    "        y_batch = []\n",
    "\n",
    "        for i in range(batch_size):\n",
    "            \n",
    "            x = sitk.ReadImage(X[i])\n",
    "            x_np = sitk.GetArrayViewFromImage(x) / 255.\n",
    "            y = sitk.ReadImage(y[i])\n",
    "            y_np = sitk.GetArrayViewFromImage(y) / 255.\n",
    "            \n",
    "            x_batch.append(x_np)\n",
    "            y_batch.append(y_np)\n",
    "\n",
    "        \n",
    "        x_batch = np.array(x_batch)\n",
    "        # y_batch = np.array(y_batch)\n",
    "\n",
    "        y_batch = {'seg': np.array(y_batch),\n",
    "                #    'cls': np.array(classification_list)\n",
    "                }\n",
    "\n",
    "        yield x_batch, y_batch\n",
    "\n",
    "for x, y in keras_generator_train_val_test(2, choice=\"train\"):\n",
    "    break\n",
    "\n",
    "print(x.shape, y['seg'].shape)"
   ]
  }
 ],
 "metadata": {
  "colab": {
   "collapsed_sections": [],
   "name": "Copy of Brats_with_Unet.ipynb",
   "provenance": [
    {
     "file_id": "https://github.com/pablosarricolea/Internships/blob/main/notebooks/Brats_with_Unet.ipynb",
     "timestamp": 1607556725258
    }
   ]
  },
  "kernelspec": {
   "display_name": "project_1",
   "language": "python",
   "name": "project_1"
  },
  "language_info": {
   "codemirror_mode": {
    "name": "ipython",
    "version": 3
   },
   "file_extension": ".py",
   "mimetype": "text/x-python",
   "name": "python",
   "nbconvert_exporter": "python",
   "pygments_lexer": "ipython3",
   "version": "3.6.12"
  }
 },
 "nbformat": 4,
 "nbformat_minor": 1
}
