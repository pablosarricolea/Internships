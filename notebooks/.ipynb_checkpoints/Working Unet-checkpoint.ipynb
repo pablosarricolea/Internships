{
 "cells": [
  {
   "cell_type": "code",
   "execution_count": null,
   "metadata": {},
   "outputs": [],
   "source": [
    "\"\"\"\n",
    "PROEBLEMs:\n",
    "\n",
    "validation rn --> change loading images train, we've done it before\n",
    "\n",
    "Also raro con numero de clases y numero de canales\n",
    "\n",
    "TODOs:\n",
    "\n",
    "implement unet with --> segmentation models and transfer learning: https://github.com/qubvel/segmentation_models\n",
    "different weights to classes, hence, number of clases? --> https://github.com/ianhi/AC295-final-project-JWI/blob/master/lib/Segmentation.py // https://towardsdatascience.com/how-we-built-an-easy-to-use-image-segmentation-tool-with-transfer-learning-546efb6ae98 // https://www.tensorflow.org/tutorials/structured_data/imbalanced_data --> it'll depend on the magnitude of the loss functions\n",
    "test my model with oxford --> https://www.tensorflow.org/datasets/catalog/oxford_iiit_pet /// https://www.kaggle.com/spidy20/image-segmentation-using-unet-tensorflow\n",
    "check the activation of layers --> https://awjuliani.medium.com/visualizing-neural-network-layer-activation-tensorflow-tutorial-d45f8bf7bbc4\n",
    "implement shuffling in the generator --> https://stanford.edu/~shervine/blog/keras-how-to-generate-data-on-the-fly\n",
    "\"\"\""
   ]
  },
  {
   "cell_type": "code",
   "execution_count": 1,
   "metadata": {},
   "outputs": [
    {
     "name": "stdout",
     "output_type": "stream",
     "text": [
      "['/device:CPU:0', '/device:XLA_CPU:0', '/device:XLA_GPU:0', '/device:XLA_GPU:1', '/device:GPU:0', '/device:GPU:1']\n"
     ]
    }
   ],
   "source": [
    "import os\n",
    "from tensorflow.python.client import device_lib\n",
    "\n",
    "def get_available_devices():\n",
    "    local_device_protos = device_lib.list_local_devices()\n",
    "    return [x.name for x in local_device_protos]\n",
    "\n",
    "#Run from server\n",
    "\n",
    "gpu4 = \"GPU-71b4cdfc-e381-0b98-9b24-4fc06284b496\" \n",
    "gpu5 = \"GPU-99d0769a-9f86-4800-a40e-2320dddcf5d1\" \n",
    "gpu6 = \"GPU-7423cfb5-cff4-ec4d-7e96-ea6e1591d56f\"\n",
    "gpu7 = \"GPU-c0a8738f-6dd0-1b78-c38f-4969fd3886a8\"\n",
    "\n",
    "os.environ[\"CUDA_VISIBLE_DEVICES\"]= gpu6 + \",\" + gpu5\n",
    "\n",
    "print(get_available_devices())"
   ]
  },
  {
   "cell_type": "code",
   "execution_count": 2,
   "metadata": {},
   "outputs": [],
   "source": [
    "import nibabel as nib\n",
    "import matplotlib.pyplot as plt\n",
    "import numpy as np\n",
    "import h5py\n",
    "import cv2"
   ]
  },
  {
   "cell_type": "code",
   "execution_count": 3,
   "metadata": {},
   "outputs": [],
   "source": [
    "import tensorflow as tf\n",
    "from tensorflow.keras import backend as K\n",
    "from tensorflow.keras.layers import Activation, Lambda, GlobalAveragePooling2D, concatenate\n",
    "from tensorflow.keras.layers import UpSampling2D, Conv2D, Dropout, MaxPooling2D, Conv2DTranspose\n",
    "from tensorflow.keras.layers import Dense, Flatten, Input\n",
    "from tensorflow.keras.models import Model, Sequential, load_model\n",
    "from tensorflow.keras.callbacks import ModelCheckpoint, ReduceLROnPlateau\n",
    "from tensorflow.keras.optimizers import RMSprop, Adam, SGD"
   ]
  },
  {
   "cell_type": "code",
   "execution_count": 46,
   "metadata": {},
   "outputs": [],
   "source": [
    "IMG_HEIGHT = 240\n",
    "IMG_WIDTH = 240\n",
    "IMG_DEPTH = 155\n",
    "\n",
    "IMG_HEIGHT_UNET = 256\n",
    "IMG_WIDTH_UNET = 256\n",
    "\n",
    "N_IMG = 369\n",
    "length_file = IMG_DEPTH * N_IMG\n",
    "h5py_file_name = 'training.hdf5'\n",
    "smooth = 1"
   ]
  },
  {
   "cell_type": "markdown",
   "metadata": {},
   "source": [
    "___"
   ]
  },
  {
   "cell_type": "markdown",
   "metadata": {},
   "source": [
    "Generating the data and creating data arrays"
   ]
  },
  {
   "cell_type": "code",
   "execution_count": null,
   "metadata": {},
   "outputs": [],
   "source": []
  },
  {
   "cell_type": "code",
   "execution_count": null,
   "metadata": {},
   "outputs": [],
   "source": [
    "ImgDir = os.path.join(\"..\",\"data\",\"MICCAI_BraTS2020_TrainingData\")\n",
    "features_path = list()\n",
    "labels_path = list()\n",
    "count = 0\n",
    "lim = 10\n",
    "\n",
    "for folder in os.listdir(ImgDir):\n",
    "    count +=1\n",
    "    if 'Training' in folder:\n",
    "        new_dir = os.path.join(ImgDir,folder)\n",
    "        data = os.listdir(new_dir)\n",
    "        for files in data:\n",
    "            if 'flair' in files:\n",
    "                features_path.append(os.path.join(new_dir, files))\n",
    "            if 'seg' in files:\n",
    "                labels_path.append(os.path.join(new_dir, files))\n",
    "\n",
    "print(len(features_path))\n",
    "print(len(labels_path))\n"
   ]
  },
  {
   "cell_type": "code",
   "execution_count": null,
   "metadata": {
    "scrolled": true
   },
   "outputs": [],
   "source": [
    "img_conc_features = np.zeros((len(features_path),IMG_HEIGHT,IMG_WIDTH,IMG_DEPTH))\n",
    "path = features_path\n",
    "\n",
    "for file, i in zip(path,range(len(path))):\n",
    "    img = nib.load(file)\n",
    "    imgarr = img.get_fdata()\n",
    "    img_conc_features[i,:,:,:] = imgarr\n",
    "    \n",
    "img_conc_features = np.concatenate(img_conc_features,axis=2)\n",
    "print(np.shape(img_conc_features))"
   ]
  },
  {
   "cell_type": "code",
   "execution_count": null,
   "metadata": {
    "scrolled": true
   },
   "outputs": [],
   "source": [
    "img_conc_labels = np.zeros((len(labels_path),IMG_HEIGHT,IMG_WIDTH,IMG_DEPTH))\n",
    "path = labels_path\n",
    "\n",
    "for file, i in zip(path,range(len(path))):\n",
    "    img = nib.load(file)\n",
    "    imgarr = img.get_fdata()\n",
    "    img_conc_labels[i,:,:,:] = imgarr\n",
    "    \n",
    "img_conc_labels = np.concatenate(img_conc_labels,axis=2)\n",
    "print(np.shape(img_conc_labels))"
   ]
  },
  {
   "cell_type": "code",
   "execution_count": null,
   "metadata": {},
   "outputs": [],
   "source": [
    "with h5py.File(os.path.join('..','data',h5py_file_name), 'a') as f:\n",
    "    f.create_dataset(\"features\", data=img_conc_features, compression=\"gzip\")\n",
    "    f.create_dataset(\"labels\", data=img_conc_labels, compression=\"gzip\")"
   ]
  },
  {
   "cell_type": "code",
   "execution_count": null,
   "metadata": {},
   "outputs": [],
   "source": [
    "hdf5_store_Brats = h5py.File(os.path.join('..','data',h5py_file_name), \"r\")\n",
    "test_img = hdf5_store_Brats[\"features\"][:, :, 100]\n",
    "plt.imshow(test_img, cmap ='gray')\n",
    "hdf5_store_Brats.close()"
   ]
  },
  {
   "cell_type": "code",
   "execution_count": null,
   "metadata": {},
   "outputs": [],
   "source": [
    "hdf5_store_Brats = h5py.File(os.path.join('..','data',h5py_file_name), \"r\")\n",
    "test_img = hdf5_store_Brats[\"labels\"][:, :, 100]\n",
    "plt.imshow(test_img, cmap ='gray')\n",
    "hdf5_store_Brats.close()"
   ]
  },
  {
   "cell_type": "markdown",
   "metadata": {},
   "source": [
    "___"
   ]
  },
  {
   "cell_type": "markdown",
   "metadata": {},
   "source": [
    "Load data and model"
   ]
  },
  {
   "cell_type": "code",
   "execution_count": 92,
   "metadata": {},
   "outputs": [],
   "source": [
    "# images = X_nib.get_fdata()\n",
    "# labels = y_nib.get_fdata()\n",
    "\n",
    "#https://www.pythonforthelab.com/blog/how-to-use-hdf5-files-in-python/\n",
    "\n",
    "with h5py.File(os.path.join('..','data',h5py_file_name), \"r\") as f:\n",
    "    #images_train = f[\"features\"][()] #the whole dataset: 57195 images\n",
    "    #labels_train = f[\"labels\"][()]\n",
    "    \n",
    "    images = f[\"features\"]\n",
    "    images_train = images[:,:,:300] #taking a subsample\n",
    "    \n",
    "    labels = f[\"labels\"]\n",
    "    labels_train = labels[:,:,:300]\n",
    "\n",
    "batch_size = 30 # "
   ]
  },
  {
   "cell_type": "code",
   "execution_count": 93,
   "metadata": {},
   "outputs": [
    {
     "data": {
      "text/plain": [
       "(240, 240, 300)"
      ]
     },
     "execution_count": 93,
     "metadata": {},
     "output_type": "execute_result"
    }
   ],
   "source": [
    "np.shape(images_train)"
   ]
  },
  {
   "cell_type": "code",
   "execution_count": 94,
   "metadata": {},
   "outputs": [
    {
     "data": {
      "image/png": "[encoded data removed]",
      "text/plain": [
       "<Figure size 432x288 with 1 Axes>"
      ]
     },
     "metadata": {},
     "output_type": "display_data"
    }
   ],
   "source": [
    "plt.imshow(images_train[:,:,42], cmap = 'gray', interpolation = 'bicubic')\n",
    "plt.xticks([]), plt.yticks([])  # to hide tick values on X and Y axis\n",
    "plt.show()"
   ]
  },
  {
   "cell_type": "code",
   "execution_count": 95,
   "metadata": {},
   "outputs": [
    {
     "data": {
      "image/png": "[encoded data removed]",
      "text/plain": [
       "<Figure size 432x288 with 1 Axes>"
      ]
     },
     "metadata": {},
     "output_type": "display_data"
    }
   ],
   "source": [
    "plt.imshow(labels_train[:,:,42], cmap = 'gray', interpolation = 'bicubic')\n",
    "plt.xticks([]), plt.yticks([])  # to hide tick values on X and Y axis\n",
    "plt.show()"
   ]
  },
  {
   "cell_type": "markdown",
   "metadata": {},
   "source": [
    "____"
   ]
  },
  {
   "cell_type": "code",
   "execution_count": 96,
   "metadata": {},
   "outputs": [],
   "source": [
    "#https://towardsdatascience.com/using-custom-building-blocks-in-tensorflow-2-0-550b88eb7aa2\n",
    "\n",
    "class My_Custom_Generator(tf.keras.utils.Sequence):\n",
    "  \n",
    "    def __init__(self, images, labels, batch_size):\n",
    "        self.images = images\n",
    "        self.labels = labels\n",
    "        self.batch_size = batch_size\n",
    "        self.shuffle = True\n",
    "        \n",
    "#     def on_epoch_end(self):\n",
    "#         self.indexes = np.arange(len(self.list_IDs))\n",
    "#         if self.shuffle == True:\n",
    "#             np.random.shuffle(self.indexes)\n",
    "\n",
    "    def __len__(self) :\n",
    "        return (np.ceil(len(self.images) / float(self.batch_size))).astype(np.int)\n",
    "\n",
    "\n",
    "    def __getitem__(self, idx) :\n",
    "        batch_x = self.images[:,:,idx * self.batch_size : (idx+1) * self.batch_size]\n",
    "        batch_y = self.labels[:,:,idx * self.batch_size : (idx+1) * self.batch_size]\n",
    "        #240,240,32\n",
    "        batch_x /= 255.\n",
    "        batch_y /= 255.\n",
    "\n",
    "#         train_image = np.zeros((batch_size,IMG_HEIGHT,IMG_WIDTH,3))\n",
    "#         train_label = np.zeros((batch_size,IMG_HEIGHT,IMG_WIDTH,3))\n",
    "        \n",
    "        train_image = np.zeros((batch_size,IMG_HEIGHT_UNET,IMG_WIDTH_UNET,3))\n",
    "        train_label = np.zeros((batch_size,IMG_HEIGHT_UNET,IMG_WIDTH_UNET,3))\n",
    "        \n",
    "        for i in range(batch_size):\n",
    "            \n",
    "#             X_new = np.zeros((IMG_HEIGHT_UNET, IMG_WIDTH_UNET, 3), np.float32)\n",
    "#             y_new = np.zeros((IMG_HEIGHT_UNET, IMG_WIDTH_UNET, 3), np.float32)\n",
    "\n",
    "            X_new = np.zeros((IMG_HEIGHT_UNET, IMG_WIDTH_UNET, 3), np.float32)\n",
    "            y_new = np.zeros((IMG_HEIGHT_UNET, IMG_WIDTH_UNET, 3), np.float32)\n",
    "\n",
    "            X_new[:IMG_HEIGHT,:IMG_WIDTH,0] = batch_x[:,:,i]\n",
    "            X_new[:IMG_HEIGHT,:IMG_WIDTH,1] = batch_x[:,:,i]\n",
    "            X_new[:IMG_HEIGHT,:IMG_WIDTH,2] = batch_x[:,:,i]\n",
    "            \n",
    "            y_new[:IMG_HEIGHT,:IMG_WIDTH,0] = batch_y[:,:,i]\n",
    "            y_new[:IMG_HEIGHT,:IMG_WIDTH,1] = batch_y[:,:,i]\n",
    "            y_new[:IMG_HEIGHT,:IMG_WIDTH,2] = batch_y[:,:,i]\n",
    "            \n",
    "#             X_new[:,:,0] = batch_x[:,:,i]\n",
    "#             X_new[:,:,1] = batch_x[:,:,i]\n",
    "#             X_new[:,:,2] = batch_x[:,:,i]\n",
    "\n",
    "#             y_new[:,:,0] = batch_y[:,:,i]\n",
    "#             y_new[:,:,1] = batch_y[:,:,i]\n",
    "#             y_new[:,:,2] = batch_y[:,:,i]\n",
    "\n",
    "            train_image[i,:,:,:] = X_new\n",
    "            train_label[i,:,:,:] = y_new\n",
    "\n",
    "           \n",
    "          # Checking the input images in the network  \n",
    "            \n",
    "#         plt.imshow(train_image[10,:,:,1], cmap = 'gray')\n",
    "#         plt.xticks([]), plt.yticks([])  # to hide tick values on X and Y axis\n",
    "#         plt.show()\n",
    "        \n",
    "#         plt.imshow(train_label[10,:,:,1], cmap = 'gray')\n",
    "#         plt.xticks([]), plt.yticks([])  # to hide tick values on X and Y axis\n",
    "#         plt.show()\n",
    "        \n",
    "        return np.array(train_image), np.array(train_label)\n",
    "\n",
    "my_training_batch_generator = My_Custom_Generator(images_train, labels_train, batch_size)"
   ]
  },
  {
   "attachments": {
    "image-2.png": {
     "image/png": "[encoded data removed]"
    }
   },
   "cell_type": "markdown",
   "metadata": {},
   "source": [
    "Correct input in the netowrk\n",
    "\n",
    "![image-2.png](attachment:image-2.png)"
   ]
  },
  {
   "cell_type": "code",
   "execution_count": 97,
   "metadata": {},
   "outputs": [],
   "source": [
    "class printbatch(tf.keras.callbacks.Callback):\n",
    "    \n",
    "    def on_train_begin(self, epoch, logs={}):\n",
    "\n",
    "        res_dir = os.path.join(\"..\",\"data\",\"test_images\")\n",
    "\n",
    "        try:\n",
    "            os.makedirs(res_dir)\n",
    "        except:\n",
    "            print(f\"{res_dir} directory already exist\")\n",
    "\n",
    "    \n",
    "    def on_train_batch_begin(self, batch, logs=None):\n",
    "        keys = list(logs.keys())\n",
    "        print(\"...Training: start of batch {}; got log keys: {}\".format(batch, keys))\n",
    "\n",
    "    def on_train_batch_end(self, batch, logs=None):\n",
    "        keys = list(logs.keys())\n",
    "        print(\"...Training: end of batch {}; got log keys: {}\".format(batch, keys))\n",
    "\n",
    "    def on_epoch_end(self, epoch, logs=None):\n",
    "        keys = list(logs.keys())\n",
    "        \n",
    "        res_dir = os.path.join(\"..\",\"data\",\"test_images\")\n",
    "        \n",
    "        test_img_feat_dir = os.path.join(\"..\",\"data\",\"MICCAI_BraTS2020_TrainingData\",\"BraTS20_Training_001\",\"BraTS20_Training_001_flair.nii.gz\")\n",
    "        test_img_label_dir = os.path.join(\"..\",\"data\",\"MICCAI_BraTS2020_TrainingData\",\"BraTS20_Training_001\",\"BraTS20_Training_001_seg.nii.gz\")\n",
    "        \n",
    "        img_feat = nib.load(test_img_feat_dir)\n",
    "        imgarr_feat = img_feat.get_fdata()\n",
    "        test_img_feat_slice = imgarr_feat[:,:,100]\n",
    "        \n",
    "        img_label = nib.load(test_img_label_dir)\n",
    "        imgarr_label = img_label.get_fdata()\n",
    "        test_img_label_slice = imgarr_label[:,:,100]\n",
    "        \n",
    "        test_img = np.zeros((IMG_HEIGHT_UNET, IMG_WIDTH_UNET,3), np.float32)\n",
    "\n",
    "        test_img[:IMG_HEIGHT,:IMG_WIDTH,0] = test_img_feat_slice\n",
    "        test_img[:IMG_HEIGHT,:IMG_WIDTH,1] = test_img_feat_slice\n",
    "        test_img[:IMG_HEIGHT,:IMG_WIDTH,2] = test_img_feat_slice\n",
    "        \n",
    "        p = np.reshape(test_img, (1, IMG_HEIGHT_UNET, IMG_WIDTH_UNET, 3))\n",
    "        \n",
    "        prediction = self.model.predict(p)\n",
    "\n",
    "#         plt.figure()\n",
    "#         plt.imshow(test_img_feat_slice, cmap ='gray')\n",
    "#         plt.figure()\n",
    "#         plt.imshow(test_img_label_slice, cmap ='gray')\n",
    "#         plt.figure()\n",
    "#         plt.imshow(prediction[0,:,:,:], cmap ='gray')\n",
    "    \n",
    "        x_img = os.path.join(res_dir,\"X_input.jpg\")\n",
    "        y_img = os.path.join(res_dir,\"Y_truth.jpg\")\n",
    "        predicted_img = os.path.join(res_dir,f\"{epoch}_Y_predicted.jpg\")\n",
    "\n",
    "        cv2.imwrite(x_img, test_img * 255.)\n",
    "        cv2.imwrite(y_img, test_img_label_slice * 255.)\n",
    "        cv2.imwrite(predicted_img, prediction[0,:,:,:] * 255.)\n",
    "        \n",
    "        print(\"End epoch {} of training; got log keys: {}\".format(epoch, keys))\n",
    "\n",
    "pb = printbatch()"
   ]
  },
  {
   "cell_type": "markdown",
   "metadata": {},
   "source": [
    "Model 1"
   ]
  },
  {
   "cell_type": "code",
   "execution_count": null,
   "metadata": {},
   "outputs": [],
   "source": [
    "\n",
    "\n",
    "import segmentation_models as sm\n",
    "model = sm.Unet('resnet34', classes = 3, input_shape=(IMG_HEIGHT_UNET, IMG_WIDTH_UNET, 3))\n",
    "model.compile(\n",
    "    'Adam',\n",
    "    loss=sm.losses.bce_jaccard_loss,\n",
    "    metrics=[sm.metrics.iou_score],\n",
    ")\n",
    "model.fit_generator(my_training_batch_generator, epochs = 1, verbose=2, callbacks=[pb], validation_data=None, class_weight=None)"
   ]
  },
  {
   "cell_type": "code",
   "execution_count": null,
   "metadata": {},
   "outputs": [],
   "source": []
  },
  {
   "cell_type": "markdown",
   "metadata": {},
   "source": [
    "Model 2"
   ]
  },
  {
   "cell_type": "code",
   "execution_count": 17,
   "metadata": {},
   "outputs": [],
   "source": [
    "def dice_coef(y_true, y_pred):\n",
    "    y_true_f = K.flatten(y_true)\n",
    "    y_pred_f = K.flatten(y_pred)\n",
    "    intersection = K.sum(y_true_f * y_pred_f)\n",
    "    return (2. * intersection + smooth) / (K.sum(y_true_f) + K.sum(y_pred_f) + smooth)\n",
    "\n",
    "def dice_coef_loss(y_true, y_pred):\n",
    "    return (1-dice_coef(y_true, y_pred))\n",
    "\n",
    "def get_model():\n",
    "    in1 = Input(shape=(IMG_HEIGHT, IMG_WIDTH, 3))\n",
    "\n",
    "    conv1 = Conv2D(16, (3, 3), activation='relu', kernel_initializer='he_normal', padding='same')(in1)\n",
    "    conv1 = Dropout(0.2)(conv1)\n",
    "    conv1 = Conv2D(16, (3, 3), activation='relu', kernel_initializer='he_normal', padding='same')(conv1)\n",
    "    pool1 = MaxPooling2D((2, 2))(conv1)\n",
    "\n",
    "    conv2 = Conv2D(32, (3, 3), activation='relu', kernel_initializer='he_normal', padding='same')(pool1)\n",
    "    conv2 = Dropout(0.2)(conv2)\n",
    "    conv2 = Conv2D(32, (3, 3), activation='relu', kernel_initializer='he_normal', padding='same')(conv2)\n",
    "    pool2 = MaxPooling2D((2, 2))(conv2)\n",
    "\n",
    "    conv3 = Conv2D(64, (3, 3), activation='relu', kernel_initializer='he_normal', padding='same')(pool2)\n",
    "    conv3 = Dropout(0.2)(conv3)\n",
    "    conv3 = Conv2D(64, (3, 3), activation='relu', kernel_initializer='he_normal', padding='same')(conv3)\n",
    "    pool3 = MaxPooling2D((2, 2))(conv3)\n",
    "\n",
    "    conv4 = Conv2D(64, (3, 3), activation='relu', kernel_initializer='he_normal', padding='same')(pool3)\n",
    "    conv4 = Dropout(0.2)(conv4)\n",
    "    conv4 = Conv2D(64, (3, 3), activation='relu', kernel_initializer='he_normal', padding='same')(conv4)\n",
    "\n",
    "    up1 = concatenate([UpSampling2D((2, 2))(conv4), conv3], axis=-1)\n",
    "    conv5 = Conv2D(32, (3, 3), activation='relu', kernel_initializer='he_normal', padding='same')(up1)\n",
    "    conv5 = Dropout(0.2)(conv5)\n",
    "    conv5 = Conv2D(32, (3, 3), activation='relu', kernel_initializer='he_normal', padding='same')(conv5)\n",
    "    \n",
    "    up2 = concatenate([UpSampling2D((2, 2))(conv5), conv2], axis=-1)\n",
    "    conv6 = Conv2D(32, (3, 3), activation='relu', kernel_initializer='he_normal', padding='same')(up2)\n",
    "    conv6 = Dropout(0.2)(conv6)\n",
    "    conv6 = Conv2D(32, (3, 3), activation='relu', kernel_initializer='he_normal', padding='same')(conv6)\n",
    "\n",
    "    up2 = concatenate([UpSampling2D((2, 2))(conv6), conv1], axis=-1)\n",
    "    conv7 = Conv2D(16, (3, 3), activation='relu', kernel_initializer='he_normal', padding='same')(up2)\n",
    "    conv7 = Dropout(0.2)(conv7)\n",
    "    conv7 = Conv2D(16, (3, 3), activation='relu', kernel_initializer='he_normal', padding='same')(conv7)\n",
    "    segmentation = Conv2D(3, (1, 1), activation='sigmoid', name='seg')(conv7)\n",
    "\n",
    "    model = Model(inputs=[in1], outputs=[segmentation])   \n",
    "\n",
    "    #model.compile(optimizer = 'adam',loss = 'categorical_crossentropy',metrics=['accuracy'])\n",
    "\n",
    "    model.compile(optimizer=Adam(lr=1e-4, beta_1=0.9, beta_2=0.999, epsilon=1e-08, decay=0.000000199), loss=dice_coef_loss, metrics=[dice_coef])\n",
    "\n",
    "    return model"
   ]
  },
  {
   "cell_type": "code",
   "execution_count": 18,
   "metadata": {
    "scrolled": true
   },
   "outputs": [
    {
     "name": "stdout",
     "output_type": "stream",
     "text": [
      "Model: \"functional_1\"\n",
      "__________________________________________________________________________________________________\n",
      "Layer (type)                    Output Shape         Param #     Connected to                     \n",
      "==================================================================================================\n",
      "input_1 (InputLayer)            [(None, 240, 240, 3) 0                                            \n",
      "__________________________________________________________________________________________________\n",
      "conv2d (Conv2D)                 (None, 240, 240, 16) 448         input_1[0][0]                    \n",
      "__________________________________________________________________________________________________\n",
      "dropout (Dropout)               (None, 240, 240, 16) 0           conv2d[0][0]                     \n",
      "__________________________________________________________________________________________________\n",
      "conv2d_1 (Conv2D)               (None, 240, 240, 16) 2320        dropout[0][0]                    \n",
      "__________________________________________________________________________________________________\n",
      "max_pooling2d (MaxPooling2D)    (None, 120, 120, 16) 0           conv2d_1[0][0]                   \n",
      "__________________________________________________________________________________________________\n",
      "conv2d_2 (Conv2D)               (None, 120, 120, 32) 4640        max_pooling2d[0][0]              \n",
      "__________________________________________________________________________________________________\n",
      "dropout_1 (Dropout)             (None, 120, 120, 32) 0           conv2d_2[0][0]                   \n",
      "__________________________________________________________________________________________________\n",
      "conv2d_3 (Conv2D)               (None, 120, 120, 32) 9248        dropout_1[0][0]                  \n",
      "__________________________________________________________________________________________________\n",
      "max_pooling2d_1 (MaxPooling2D)  (None, 60, 60, 32)   0           conv2d_3[0][0]                   \n",
      "__________________________________________________________________________________________________\n",
      "conv2d_4 (Conv2D)               (None, 60, 60, 64)   18496       max_pooling2d_1[0][0]            \n",
      "__________________________________________________________________________________________________\n",
      "dropout_2 (Dropout)             (None, 60, 60, 64)   0           conv2d_4[0][0]                   \n",
      "__________________________________________________________________________________________________\n",
      "conv2d_5 (Conv2D)               (None, 60, 60, 64)   36928       dropout_2[0][0]                  \n",
      "__________________________________________________________________________________________________\n",
      "max_pooling2d_2 (MaxPooling2D)  (None, 30, 30, 64)   0           conv2d_5[0][0]                   \n",
      "__________________________________________________________________________________________________\n",
      "conv2d_6 (Conv2D)               (None, 30, 30, 64)   36928       max_pooling2d_2[0][0]            \n",
      "__________________________________________________________________________________________________\n",
      "dropout_3 (Dropout)             (None, 30, 30, 64)   0           conv2d_6[0][0]                   \n",
      "__________________________________________________________________________________________________\n",
      "conv2d_7 (Conv2D)               (None, 30, 30, 64)   36928       dropout_3[0][0]                  \n",
      "__________________________________________________________________________________________________\n",
      "up_sampling2d (UpSampling2D)    (None, 60, 60, 64)   0           conv2d_7[0][0]                   \n",
      "__________________________________________________________________________________________________\n",
      "concatenate (Concatenate)       (None, 60, 60, 128)  0           up_sampling2d[0][0]              \n",
      "                                                                 conv2d_5[0][0]                   \n",
      "__________________________________________________________________________________________________\n",
      "conv2d_8 (Conv2D)               (None, 60, 60, 32)   36896       concatenate[0][0]                \n",
      "__________________________________________________________________________________________________\n",
      "dropout_4 (Dropout)             (None, 60, 60, 32)   0           conv2d_8[0][0]                   \n",
      "__________________________________________________________________________________________________\n",
      "conv2d_9 (Conv2D)               (None, 60, 60, 32)   9248        dropout_4[0][0]                  \n",
      "__________________________________________________________________________________________________\n",
      "up_sampling2d_1 (UpSampling2D)  (None, 120, 120, 32) 0           conv2d_9[0][0]                   \n",
      "__________________________________________________________________________________________________\n",
      "concatenate_1 (Concatenate)     (None, 120, 120, 64) 0           up_sampling2d_1[0][0]            \n",
      "                                                                 conv2d_3[0][0]                   \n",
      "__________________________________________________________________________________________________\n",
      "conv2d_10 (Conv2D)              (None, 120, 120, 32) 18464       concatenate_1[0][0]              \n",
      "__________________________________________________________________________________________________\n",
      "dropout_5 (Dropout)             (None, 120, 120, 32) 0           conv2d_10[0][0]                  \n",
      "__________________________________________________________________________________________________\n",
      "conv2d_11 (Conv2D)              (None, 120, 120, 32) 9248        dropout_5[0][0]                  \n",
      "__________________________________________________________________________________________________\n",
      "up_sampling2d_2 (UpSampling2D)  (None, 240, 240, 32) 0           conv2d_11[0][0]                  \n",
      "__________________________________________________________________________________________________\n",
      "concatenate_2 (Concatenate)     (None, 240, 240, 48) 0           up_sampling2d_2[0][0]            \n",
      "                                                                 conv2d_1[0][0]                   \n",
      "__________________________________________________________________________________________________\n",
      "conv2d_12 (Conv2D)              (None, 240, 240, 16) 6928        concatenate_2[0][0]              \n",
      "__________________________________________________________________________________________________\n",
      "dropout_6 (Dropout)             (None, 240, 240, 16) 0           conv2d_12[0][0]                  \n",
      "__________________________________________________________________________________________________\n",
      "conv2d_13 (Conv2D)              (None, 240, 240, 16) 2320        dropout_6[0][0]                  \n",
      "__________________________________________________________________________________________________\n",
      "seg (Conv2D)                    (None, 240, 240, 3)  51          conv2d_13[0][0]                  \n",
      "==================================================================================================\n",
      "Total params: 229,091\n",
      "Trainable params: 229,091\n",
      "Non-trainable params: 0\n",
      "__________________________________________________________________________________________________\n"
     ]
    }
   ],
   "source": [
    "model2=get_model()\n",
    "model2.summary()"
   ]
  },
  {
   "cell_type": "code",
   "execution_count": 19,
   "metadata": {},
   "outputs": [],
   "source": [
    "def plot_metrics(history):\n",
    "    metrics = ['loss', 'auc', 'precision', 'recall']\n",
    "    for n, metric in enumerate(metrics):\n",
    "        name = metric.replace(\"_\",\" \").capitalize()\n",
    "        plt.subplot(2,2,n+1)\n",
    "        plt.plot(history.epoch, history.history[metric], label='Train')\n",
    "        plt.plot(history.epoch, history.history['val_'+metric], linestyle=\"--\", label='Val')\n",
    "        plt.xlabel('Epoch')\n",
    "        plt.ylabel(name)\n",
    "        if metric == 'loss':\n",
    "            plt.ylim([0, plt.ylim()[1]])\n",
    "        elif metric == 'auc':\n",
    "            plt.ylim([0.8,1])\n",
    "        else:\n",
    "            plt.ylim([0,1])\n",
    "\n",
    "    plt.legend()"
   ]
  },
  {
   "cell_type": "code",
   "execution_count": 29,
   "metadata": {
    "scrolled": true
   },
   "outputs": [
    {
     "name": "stdout",
     "output_type": "stream",
     "text": [
      "../data/test_images directory already exist\n",
      "Epoch 1/10\n",
      "...Training: start of batch 0; got log keys: []\n",
      "...Training: end of batch 0; got log keys: ['loss', 'dice_coef']\n",
      "1/8 [==>...........................] - ETA: 0s - loss: 1.0000 - dice_coef: 2.9033e-06...Training: start of batch 1; got log keys: []\n",
      "...Training: end of batch 1; got log keys: ['loss', 'dice_coef']\n",
      "...Training: start of batch 2; got log keys: []\n",
      "...Training: end of batch 2; got log keys: ['loss', 'dice_coef']\n",
      "3/8 [==========>...................] - ETA: 0s - loss: 1.0000 - dice_coef: 2.9033e-06...Training: start of batch 3; got log keys: []\n",
      "...Training: end of batch 3; got log keys: ['loss', 'dice_coef']\n",
      "4/8 [==============>...............] - ETA: 0s - loss: 1.0000 - dice_coef: 2.9033e-06...Training: start of batch 4; got log keys: []\n",
      "...Training: end of batch 4; got log keys: ['loss', 'dice_coef']\n",
      "5/8 [=================>............] - ETA: 0s - loss: 1.0000 - dice_coef: 2.9034e-06...Training: start of batch 5; got log keys: []\n",
      "...Training: end of batch 5; got log keys: ['loss', 'dice_coef']\n",
      "6/8 [=====================>........] - ETA: 0s - loss: 1.0000 - dice_coef: 2.9034e-06...Training: start of batch 6; got log keys: []\n",
      "...Training: end of batch 6; got log keys: ['loss', 'dice_coef']\n",
      "7/8 [=========================>....] - ETA: 0s - loss: 1.0000 - dice_coef: 2.9034e-06...Training: start of batch 7; got log keys: []\n",
      "...Training: end of batch 7; got log keys: ['loss', 'dice_coef']\n",
      "8/8 [==============================] - ETA: 0s - loss: 1.0000 - dice_coef: 2.9034e-06End epoch 0 of training; got log keys: ['loss', 'dice_coef']\n",
      "8/8 [==============================] - 2s 283ms/step - loss: 1.0000 - dice_coef: 2.9034e-06\n",
      "Epoch 2/10\n",
      "...Training: start of batch 0; got log keys: []\n",
      "...Training: end of batch 0; got log keys: ['loss', 'dice_coef']\n",
      "1/8 [==>...........................] - ETA: 0s - loss: 1.0000 - dice_coef: 2.9037e-06...Training: start of batch 1; got log keys: []\n",
      "...Training: end of batch 1; got log keys: ['loss', 'dice_coef']\n",
      "2/8 [======>.......................] - ETA: 0s - loss: 1.0000 - dice_coef: 2.9037e-06...Training: start of batch 2; got log keys: []\n",
      "...Training: end of batch 2; got log keys: ['loss', 'dice_coef']\n",
      "3/8 [==========>...................] - ETA: 0s - loss: 1.0000 - dice_coef: 2.9038e-06...Training: start of batch 3; got log keys: []\n",
      "...Training: end of batch 3; got log keys: ['loss', 'dice_coef']\n",
      "4/8 [==============>...............] - ETA: 0s - loss: 1.0000 - dice_coef: 2.9038e-06...Training: start of batch 4; got log keys: []\n",
      "...Training: end of batch 4; got log keys: ['loss', 'dice_coef']\n",
      "5/8 [=================>............] - ETA: 0s - loss: 1.0000 - dice_coef: 2.9038e-06...Training: start of batch 5; got log keys: []\n",
      "...Training: end of batch 5; got log keys: ['loss', 'dice_coef']\n",
      "6/8 [=====================>........] - ETA: 0s - loss: 1.0000 - dice_coef: 2.9039e-06...Training: start of batch 6; got log keys: []\n",
      "...Training: end of batch 6; got log keys: ['loss', 'dice_coef']\n",
      "7/8 [=========================>....] - ETA: 0s - loss: 1.0000 - dice_coef: 2.9039e-06...Training: start of batch 7; got log keys: []\n",
      "...Training: end of batch 7; got log keys: ['loss', 'dice_coef']\n",
      "8/8 [==============================] - ETA: 0s - loss: 1.0000 - dice_coef: 2.9040e-06End epoch 1 of training; got log keys: ['loss', 'dice_coef']\n",
      "8/8 [==============================] - 2s 282ms/step - loss: 1.0000 - dice_coef: 2.9040e-06\n",
      "Epoch 3/10\n",
      "...Training: start of batch 0; got log keys: []\n",
      "...Training: end of batch 0; got log keys: ['loss', 'dice_coef']\n",
      "1/8 [==>...........................] - ETA: 0s - loss: 1.0000 - dice_coef: 2.9044e-06...Training: start of batch 1; got log keys: []\n",
      "...Training: end of batch 1; got log keys: ['loss', 'dice_coef']\n",
      "2/8 [======>.......................] - ETA: 0s - loss: 1.0000 - dice_coef: 2.9044e-06...Training: start of batch 2; got log keys: []\n",
      "...Training: end of batch 2; got log keys: ['loss', 'dice_coef']\n",
      "3/8 [==========>...................] - ETA: 0s - loss: 1.0000 - dice_coef: 2.9045e-06...Training: start of batch 3; got log keys: []\n",
      "...Training: end of batch 3; got log keys: ['loss', 'dice_coef']\n",
      "4/8 [==============>...............] - ETA: 0s - loss: 1.0000 - dice_coef: 2.9045e-06...Training: start of batch 4; got log keys: []\n",
      "...Training: end of batch 4; got log keys: ['loss', 'dice_coef']\n",
      "5/8 [=================>............] - ETA: 0s - loss: 1.0000 - dice_coef: 2.9046e-06...Training: start of batch 5; got log keys: []\n",
      "...Training: end of batch 5; got log keys: ['loss', 'dice_coef']\n",
      "...Training: start of batch 6; got log keys: []\n",
      "...Training: end of batch 6; got log keys: ['loss', 'dice_coef']\n",
      "7/8 [=========================>....] - ETA: 0s - loss: 1.0000 - dice_coef: 2.9047e-06...Training: start of batch 7; got log keys: []\n",
      "...Training: end of batch 7; got log keys: ['loss', 'dice_coef']\n",
      "End epoch 2 of training; got log keys: ['loss', 'dice_coef']\n",
      "8/8 [==============================] - 2s 241ms/step - loss: 1.0000 - dice_coef: 2.9048e-06\n",
      "Epoch 4/10\n",
      "...Training: start of batch 0; got log keys: []\n",
      "...Training: end of batch 0; got log keys: ['loss', 'dice_coef']\n",
      "1/8 [==>...........................] - ETA: 0s - loss: 1.0000 - dice_coef: 2.9053e-06...Training: start of batch 1; got log keys: []\n",
      "...Training: end of batch 1; got log keys: ['loss', 'dice_coef']\n",
      "2/8 [======>.......................] - ETA: 0s - loss: 1.0000 - dice_coef: 2.9053e-06...Training: start of batch 2; got log keys: []\n",
      "...Training: end of batch 2; got log keys: ['loss', 'dice_coef']\n",
      "3/8 [==========>...................] - ETA: 0s - loss: 1.0000 - dice_coef: 2.9054e-06...Training: start of batch 3; got log keys: []\n",
      "...Training: end of batch 3; got log keys: ['loss', 'dice_coef']\n",
      "4/8 [==============>...............] - ETA: 0s - loss: 1.0000 - dice_coef: 2.9054e-06...Training: start of batch 4; got log keys: []\n",
      "...Training: end of batch 4; got log keys: ['loss', 'dice_coef']\n",
      "5/8 [=================>............] - ETA: 0s - loss: 1.0000 - dice_coef: 2.9055e-06...Training: start of batch 5; got log keys: []\n",
      "...Training: end of batch 5; got log keys: ['loss', 'dice_coef']\n",
      "6/8 [=====================>........] - ETA: 0s - loss: 1.0000 - dice_coef: 2.9056e-06...Training: start of batch 6; got log keys: []\n",
      "...Training: end of batch 6; got log keys: ['loss', 'dice_coef']\n",
      "7/8 [=========================>....] - ETA: 0s - loss: 1.0000 - dice_coef: 2.9056e-06...Training: start of batch 7; got log keys: []\n",
      "...Training: end of batch 7; got log keys: ['loss', 'dice_coef']\n",
      "8/8 [==============================] - ETA: 0s - loss: 1.0000 - dice_coef: 2.9057e-06End epoch 3 of training; got log keys: ['loss', 'dice_coef']\n",
      "8/8 [==============================] - 2s 271ms/step - loss: 1.0000 - dice_coef: 2.9057e-06\n",
      "Epoch 5/10\n",
      "...Training: start of batch 0; got log keys: []\n",
      "...Training: end of batch 0; got log keys: ['loss', 'dice_coef']\n",
      "1/8 [==>...........................] - ETA: 0s - loss: 1.0000 - dice_coef: 2.9063e-06...Training: start of batch 1; got log keys: []\n",
      "...Training: end of batch 1; got log keys: ['loss', 'dice_coef']\n",
      "...Training: start of batch 2; got log keys: []\n",
      "...Training: end of batch 2; got log keys: ['loss', 'dice_coef']\n",
      "3/8 [==========>...................] - ETA: 0s - loss: 1.0000 - dice_coef: 2.9064e-06...Training: start of batch 3; got log keys: []\n",
      "...Training: end of batch 3; got log keys: ['loss', 'dice_coef']\n",
      "...Training: start of batch 4; got log keys: []\n",
      "...Training: end of batch 4; got log keys: ['loss', 'dice_coef']\n",
      "5/8 [=================>............] - ETA: 0s - loss: 1.0000 - dice_coef: 2.9065e-06...Training: start of batch 5; got log keys: []\n",
      "...Training: end of batch 5; got log keys: ['loss', 'dice_coef']\n",
      "6/8 [=====================>........] - ETA: 0s - loss: 1.0000 - dice_coef: 2.9066e-06...Training: start of batch 6; got log keys: []\n",
      "...Training: end of batch 6; got log keys: ['loss', 'dice_coef']\n",
      "7/8 [=========================>....] - ETA: 0s - loss: 1.0000 - dice_coef: 2.9067e-06...Training: start of batch 7; got log keys: []\n",
      "...Training: end of batch 7; got log keys: ['loss', 'dice_coef']\n"
     ]
    },
    {
     "name": "stdout",
     "output_type": "stream",
     "text": [
      "8/8 [==============================] - ETA: 0s - loss: 1.0000 - dice_coef: 2.9067e-06End epoch 4 of training; got log keys: ['loss', 'dice_coef']\n",
      "8/8 [==============================] - 2s 253ms/step - loss: 1.0000 - dice_coef: 2.9067e-06\n",
      "Epoch 6/10\n",
      "...Training: start of batch 0; got log keys: []\n",
      "...Training: end of batch 0; got log keys: ['loss', 'dice_coef']\n",
      "1/8 [==>...........................] - ETA: 0s - loss: 1.0000 - dice_coef: 2.9073e-06...Training: start of batch 1; got log keys: []\n",
      "...Training: end of batch 1; got log keys: ['loss', 'dice_coef']\n",
      "2/8 [======>.......................] - ETA: 0s - loss: 1.0000 - dice_coef: 2.9074e-06...Training: start of batch 2; got log keys: []\n",
      "...Training: end of batch 2; got log keys: ['loss', 'dice_coef']\n",
      "3/8 [==========>...................] - ETA: 0s - loss: 1.0000 - dice_coef: 2.9075e-06...Training: start of batch 3; got log keys: []\n",
      "...Training: end of batch 3; got log keys: ['loss', 'dice_coef']\n",
      "4/8 [==============>...............] - ETA: 0s - loss: 1.0000 - dice_coef: 2.9075e-06...Training: start of batch 4; got log keys: []\n",
      "...Training: end of batch 4; got log keys: ['loss', 'dice_coef']\n",
      "5/8 [=================>............] - ETA: 0s - loss: 1.0000 - dice_coef: 2.9076e-06...Training: start of batch 5; got log keys: []\n",
      "...Training: end of batch 5; got log keys: ['loss', 'dice_coef']\n",
      "6/8 [=====================>........] - ETA: 0s - loss: 1.0000 - dice_coef: 2.9077e-06...Training: start of batch 6; got log keys: []\n",
      "...Training: end of batch 6; got log keys: ['loss', 'dice_coef']\n",
      "7/8 [=========================>....] - ETA: 0s - loss: 1.0000 - dice_coef: 2.9077e-06...Training: start of batch 7; got log keys: []\n",
      "...Training: end of batch 7; got log keys: ['loss', 'dice_coef']\n",
      "8/8 [==============================] - ETA: 0s - loss: 1.0000 - dice_coef: 2.9078e-06End epoch 5 of training; got log keys: ['loss', 'dice_coef']\n",
      "8/8 [==============================] - 2s 263ms/step - loss: 1.0000 - dice_coef: 2.9078e-06\n",
      "Epoch 7/10\n",
      "...Training: start of batch 0; got log keys: []\n",
      "...Training: end of batch 0; got log keys: ['loss', 'dice_coef']\n",
      "1/8 [==>...........................] - ETA: 0s - loss: 1.0000 - dice_coef: 2.9084e-06...Training: start of batch 1; got log keys: []\n",
      "...Training: end of batch 1; got log keys: ['loss', 'dice_coef']\n",
      "2/8 [======>.......................] - ETA: 0s - loss: 1.0000 - dice_coef: 2.9085e-06...Training: start of batch 2; got log keys: []\n",
      "...Training: end of batch 2; got log keys: ['loss', 'dice_coef']\n",
      "3/8 [==========>...................] - ETA: 0s - loss: 1.0000 - dice_coef: 2.9086e-06...Training: start of batch 3; got log keys: []\n",
      "...Training: end of batch 3; got log keys: ['loss', 'dice_coef']\n",
      "4/8 [==============>...............] - ETA: 0s - loss: 1.0000 - dice_coef: 2.9086e-06...Training: start of batch 4; got log keys: []\n",
      "...Training: end of batch 4; got log keys: ['loss', 'dice_coef']\n",
      "5/8 [=================>............] - ETA: 0s - loss: 1.0000 - dice_coef: 2.9087e-06...Training: start of batch 5; got log keys: []\n",
      "...Training: end of batch 5; got log keys: ['loss', 'dice_coef']\n",
      "...Training: start of batch 6; got log keys: []\n",
      "...Training: end of batch 6; got log keys: ['loss', 'dice_coef']\n",
      "7/8 [=========================>....] - ETA: 0s - loss: 1.0000 - dice_coef: 2.9088e-06...Training: start of batch 7; got log keys: []\n",
      "...Training: end of batch 7; got log keys: ['loss', 'dice_coef']\n",
      "End epoch 6 of training; got log keys: ['loss', 'dice_coef']\n",
      "8/8 [==============================] - 2s 249ms/step - loss: 1.0000 - dice_coef: 2.9089e-06\n",
      "Epoch 8/10\n",
      "...Training: start of batch 0; got log keys: []\n",
      "...Training: end of batch 0; got log keys: ['loss', 'dice_coef']\n",
      "1/8 [==>...........................] - ETA: 0s - loss: 1.0000 - dice_coef: 2.9095e-06...Training: start of batch 1; got log keys: []\n",
      "...Training: end of batch 1; got log keys: ['loss', 'dice_coef']\n",
      "2/8 [======>.......................] - ETA: 0s - loss: 1.0000 - dice_coef: 2.9096e-06...Training: start of batch 2; got log keys: []\n",
      "...Training: end of batch 2; got log keys: ['loss', 'dice_coef']\n",
      "3/8 [==========>...................] - ETA: 0s - loss: 1.0000 - dice_coef: 2.9097e-06...Training: start of batch 3; got log keys: []\n",
      "...Training: end of batch 3; got log keys: ['loss', 'dice_coef']\n",
      "4/8 [==============>...............] - ETA: 0s - loss: 1.0000 - dice_coef: 2.9097e-06...Training: start of batch 4; got log keys: []\n",
      "...Training: end of batch 4; got log keys: ['loss', 'dice_coef']\n",
      "5/8 [=================>............] - ETA: 0s - loss: 1.0000 - dice_coef: 2.9098e-06...Training: start of batch 5; got log keys: []\n",
      "...Training: end of batch 5; got log keys: ['loss', 'dice_coef']\n",
      "6/8 [=====================>........] - ETA: 0s - loss: 1.0000 - dice_coef: 2.9099e-06...Training: start of batch 6; got log keys: []\n",
      "...Training: end of batch 6; got log keys: ['loss', 'dice_coef']\n",
      "7/8 [=========================>....] - ETA: 0s - loss: 1.0000 - dice_coef: 2.9099e-06...Training: start of batch 7; got log keys: []\n",
      "...Training: end of batch 7; got log keys: ['loss', 'dice_coef']\n",
      "8/8 [==============================] - ETA: 0s - loss: 1.0000 - dice_coef: 2.9100e-06End epoch 7 of training; got log keys: ['loss', 'dice_coef']\n",
      "8/8 [==============================] - 2s 307ms/step - loss: 1.0000 - dice_coef: 2.9100e-06\n",
      "Epoch 9/10\n",
      "...Training: start of batch 0; got log keys: []\n",
      "...Training: end of batch 0; got log keys: ['loss', 'dice_coef']\n",
      "1/8 [==>...........................] - ETA: 0s - loss: 1.0000 - dice_coef: 2.9107e-06...Training: start of batch 1; got log keys: []\n",
      "...Training: end of batch 1; got log keys: ['loss', 'dice_coef']\n",
      "2/8 [======>.......................] - ETA: 0s - loss: 1.0000 - dice_coef: 2.9107e-06...Training: start of batch 2; got log keys: []\n",
      "...Training: end of batch 2; got log keys: ['loss', 'dice_coef']\n",
      "3/8 [==========>...................] - ETA: 0s - loss: 1.0000 - dice_coef: 2.9108e-06...Training: start of batch 3; got log keys: []\n",
      "...Training: end of batch 3; got log keys: ['loss', 'dice_coef']\n",
      "4/8 [==============>...............] - ETA: 0s - loss: 1.0000 - dice_coef: 2.9109e-06...Training: start of batch 4; got log keys: []\n",
      "...Training: end of batch 4; got log keys: ['loss', 'dice_coef']\n",
      "5/8 [=================>............] - ETA: 0s - loss: 1.0000 - dice_coef: 2.9110e-06...Training: start of batch 5; got log keys: []\n",
      "...Training: end of batch 5; got log keys: ['loss', 'dice_coef']\n",
      "6/8 [=====================>........] - ETA: 0s - loss: 1.0000 - dice_coef: 2.9110e-06...Training: start of batch 6; got log keys: []\n",
      "...Training: end of batch 6; got log keys: ['loss', 'dice_coef']\n",
      "7/8 [=========================>....] - ETA: 0s - loss: 1.0000 - dice_coef: 2.9111e-06...Training: start of batch 7; got log keys: []\n",
      "...Training: end of batch 7; got log keys: ['loss', 'dice_coef']\n",
      "8/8 [==============================] - ETA: 0s - loss: 1.0000 - dice_coef: 2.9112e-06End epoch 8 of training; got log keys: ['loss', 'dice_coef']\n",
      "8/8 [==============================] - 2s 294ms/step - loss: 1.0000 - dice_coef: 2.9112e-06\n",
      "Epoch 10/10\n",
      "...Training: start of batch 0; got log keys: []\n",
      "...Training: end of batch 0; got log keys: ['loss', 'dice_coef']\n",
      "1/8 [==>...........................] - ETA: 0s - loss: 1.0000 - dice_coef: 2.9118e-06...Training: start of batch 1; got log keys: []\n",
      "...Training: end of batch 1; got log keys: ['loss', 'dice_coef']\n",
      "2/8 [======>.......................] - ETA: 0s - loss: 1.0000 - dice_coef: 2.9119e-06...Training: start of batch 2; got log keys: []\n",
      "...Training: end of batch 2; got log keys: ['loss', 'dice_coef']\n",
      "3/8 [==========>...................] - ETA: 0s - loss: 1.0000 - dice_coef: 2.9120e-06...Training: start of batch 3; got log keys: []\n",
      "...Training: end of batch 3; got log keys: ['loss', 'dice_coef']\n",
      "4/8 [==============>...............] - ETA: 0s - loss: 1.0000 - dice_coef: 2.9121e-06...Training: start of batch 4; got log keys: []\n",
      "...Training: end of batch 4; got log keys: ['loss', 'dice_coef']\n",
      "5/8 [=================>............] - ETA: 0s - loss: 1.0000 - dice_coef: 2.9122e-06...Training: start of batch 5; got log keys: []\n",
      "...Training: end of batch 5; got log keys: ['loss', 'dice_coef']\n"
     ]
    },
    {
     "name": "stdout",
     "output_type": "stream",
     "text": [
      "6/8 [=====================>........] - ETA: 0s - loss: 1.0000 - dice_coef: 2.9122e-06...Training: start of batch 6; got log keys: []\n",
      "...Training: end of batch 6; got log keys: ['loss', 'dice_coef']\n",
      "7/8 [=========================>....] - ETA: 0s - loss: 1.0000 - dice_coef: 2.9123e-06...Training: start of batch 7; got log keys: []\n",
      "...Training: end of batch 7; got log keys: ['loss', 'dice_coef']\n",
      "End epoch 9 of training; got log keys: ['loss', 'dice_coef']\n",
      "8/8 [==============================] - 2s 243ms/step - loss: 1.0000 - dice_coef: 2.9124e-06\n"
     ]
    }
   ],
   "source": [
    "# modify the fit_generator call to include the callback pb\n",
    "training_history = model2.fit_generator(generator = my_training_batch_generator, epochs = 10, verbose=1, callbacks=[pb], validation_data=None, class_weight=None)"
   ]
  },
  {
   "cell_type": "code",
   "execution_count": null,
   "metadata": {},
   "outputs": [],
   "source": []
  },
  {
   "cell_type": "code",
   "execution_count": null,
   "metadata": {},
   "outputs": [],
   "source": []
  },
  {
   "cell_type": "code",
   "execution_count": null,
   "metadata": {},
   "outputs": [],
   "source": []
  },
  {
   "cell_type": "markdown",
   "metadata": {},
   "source": [
    "Image visualization of training"
   ]
  },
  {
   "cell_type": "code",
   "execution_count": 70,
   "metadata": {},
   "outputs": [
    {
     "data": {
      "image/png": "[encoded data removed]",
      "text/plain": [
       "<Figure size 432x288 with 1 Axes>"
      ]
     },
     "metadata": {},
     "output_type": "display_data"
    }
   ],
   "source": [
    "test_img_feat_dir = os.path.join(\"..\",\"data\",\"MICCAI_BraTS2020_TrainingData\",\"BraTS20_Training_001\",\"BraTS20_Training_001_flair.nii.gz\")\n",
    "img_feat = nib.load(test_img_feat_dir)\n",
    "imgarr_feat = img_feat.get_fdata()\n",
    "test_img_feat_slice = imgarr_feat[:,:,100]\n",
    "test_img = np.zeros((240, 240 ,3), np.float32)\n",
    "\n",
    "test_img[:,:,0] = test_img_feat_slice\n",
    "test_img[:,:,1] = test_img_feat_slice\n",
    "test_img[:,:,2] = test_img_feat_slice\n",
    "\n",
    "plt.imshow(test_img[:,:,0], cmap = 'gray', interpolation = 'bicubic')\n",
    "plt.xticks([]), plt.yticks([])  # to hide tick values on X and Y axis\n",
    "plt.show()"
   ]
  },
  {
   "cell_type": "code",
   "execution_count": 105,
   "metadata": {},
   "outputs": [
    {
     "data": {
      "image/png": "[encoded data removed]",
      "text/plain": [
       "<Figure size 432x288 with 1 Axes>"
      ]
     },
     "metadata": {},
     "output_type": "display_data"
    }
   ],
   "source": [
    "directory_predicted = os.path.join(\"..\",\"data\",\"test_images\",\"3_Y_predicted.jpg\")\n",
    "directory_y = os.path.join(\"..\",\"data\",\"test_images\",\"Y_truth.jpg\")\n",
    "directory_X = os.path.join(\"..\",\"data\",\"test_images\",\"X_input.jpg\")\n",
    "\n",
    "img = cv2.imread(directory_predicted,0)\n",
    "\n",
    "plt.imshow(img, cmap = 'gray', interpolation = 'bicubic')\n",
    "plt.xticks([]), plt.yticks([])  # to hide tick values on X and Y axis\n",
    "plt.show()"
   ]
  },
  {
   "cell_type": "markdown",
   "metadata": {},
   "source": [
    "____"
   ]
  },
  {
   "cell_type": "raw",
   "metadata": {},
   "source": [
    "Predictions"
   ]
  },
  {
   "cell_type": "code",
   "execution_count": null,
   "metadata": {},
   "outputs": [],
   "source": [
    "import SimpleITK as sitk\n",
    "img_flair = sitk.ReadImage(os.path.join(\"..\", \"data\",\"MICCAI_BraTS2020_TrainingData\",\"BraTS20_Training_001\",\"BraTS20_Training_001_flair.nii.gz\"))\n",
    "nda_flair = sitk.GetArrayViewFromImage(img_flair)\n",
    "print(np.shape(nda_flair))\n",
    "\n",
    "for i in range(len(nda_flair[:,1,1])):\n",
    "\n",
    "    X_new = np.zeros((240, 240 ,3), np.float32)\n",
    "\n",
    "    X_new[:,:,0] = batch_x[:,:,i]\n",
    "    X_new[:,:,1] = batch_x[:,:,i]\n",
    "    X_new[:,:,2] = batch_x[:,:,i]\n",
    "\n",
    "    train_image.append(X_new)"
   ]
  },
  {
   "cell_type": "code",
   "execution_count": null,
   "metadata": {},
   "outputs": [],
   "source": []
  },
  {
   "cell_type": "code",
   "execution_count": null,
   "metadata": {},
   "outputs": [],
   "source": []
  },
  {
   "cell_type": "code",
   "execution_count": null,
   "metadata": {},
   "outputs": [],
   "source": []
  },
  {
   "cell_type": "code",
   "execution_count": null,
   "metadata": {},
   "outputs": [],
   "source": []
  },
  {
   "cell_type": "code",
   "execution_count": null,
   "metadata": {},
   "outputs": [],
   "source": []
  },
  {
   "cell_type": "code",
   "execution_count": null,
   "metadata": {},
   "outputs": [],
   "source": [
    "def generator():\n",
    "    \n",
    "    data_length = len(X_nib.get_fdata()[1,1,:])\n",
    "    chunks = np.floor(data_length / batch_size)\n",
    "    print('A')\n",
    "    X = X_nib.get_fdata()\n",
    "    y = y_nib.get_fdata()\n",
    "    print('B')\n",
    "    X /= 255\n",
    "    y /= 255\n",
    "    print('C')\n",
    "    \n",
    "    while True:\n",
    "        \n",
    "        for i in range(int(chunks)):\n",
    "            X_yield = []\n",
    "            y_yield = []\n",
    "\n",
    "            X_mod = X[:,:,i*32:(i+1)*32]\n",
    "            y_mod = y[:,:,i*32:(i+1)*32]\n",
    "            print(np.shape(X_mod))\n",
    "\n",
    "            for j in range(32):\n",
    "                X_new = np.zeros((240, 240 ,3), np.uint8)\n",
    "                X_new[:,:,0] = X_mod[:,:,j]\n",
    "                X_new[:,:,1] = X_mod[:,:,j]\n",
    "                X_new[:,:,2] = X_mod[:,:,j]\n",
    "\n",
    "                X_yield.append(X_new)\n",
    "                print(np.shape(X_yield))\n",
    "\n",
    "                y_new = np.zeros((240, 240 ,3), np.uint8)\n",
    "                y_new[:,:,0] = y_mod[:,:,j]\n",
    "                y_new[:,:,1] = y_mod[:,:,j]\n",
    "                y_new[:,:,2] = y_mod[:,:,j]\n",
    "\n",
    "                y_yield.append(y_new)\n",
    "\n",
    "            yield np.reshape(X_yield,(32,240,240,3)), np.reshape(y_yield,(32,240,240,3))\n",
    "        \n",
    "\n",
    "my_generator = generator()"
   ]
  }
 ],
 "metadata": {
  "kernelspec": {
   "display_name": "project_1",
   "language": "python",
   "name": "project_1"
  },
  "language_info": {
   "codemirror_mode": {
    "name": "ipython",
    "version": 3
   },
   "file_extension": ".py",
   "mimetype": "text/x-python",
   "name": "python",
   "nbconvert_exporter": "python",
   "pygments_lexer": "ipython3",
   "version": "3.6.12"
  }
 },
 "nbformat": 4,
 "nbformat_minor": 4
}
