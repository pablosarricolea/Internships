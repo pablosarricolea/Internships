{
 "cells": [
  {
   "cell_type": "markdown",
   "metadata": {},
   "source": [
    "### Generating Datasets"
   ]
  },
  {
   "cell_type": "code",
   "execution_count": null,
   "metadata": {},
   "outputs": [],
   "source": [
    "import datasetCreation"
   ]
  },
  {
   "cell_type": "code",
   "execution_count": null,
   "metadata": {},
   "outputs": [],
   "source": [
    "path_directory = os.path.join(\"..\",\"data\",\"MICCAI_BraTS2020_TrainingData\")\n",
    "\n",
    "dataset_directory_t1 = os.path.join(\"..\",\"data\", 't1_images.hdf5')\n",
    "dataset_directory_t1ce = os.path.join(\"..\",\"data\", 't1ce_images.hdf5')\n",
    "dataset_directory_t2 = os.path.join(\"..\",\"data\", 't2_images.hdf5')\n",
    "dataset_directory_flair = os.path.join(\"..\",\"data\", 'flair_images.hdf5')\n",
    "dataset_directory_seg = os.path.join(\"..\",\"data\", 'seg_images.hdf5')"
   ]
  },
  {
   "cell_type": "code",
   "execution_count": null,
   "metadata": {},
   "outputs": [],
   "source": [
    "datasetCreation.create_dataset(path_directory, dataset_directory_t1, features = True)\n",
    "datasetCreation.create_dataset(path_directory, dataset_directory_t1ce, features = True)\n",
    "datasetCreation.create_dataset(path_directory, dataset_directory_t2, features = True)\n",
    "datasetCreation.create_dataset(path_directory, dataset_directory_flair, features = True)"
   ]
  },
  {
   "cell_type": "code",
   "execution_count": null,
   "metadata": {},
   "outputs": [],
   "source": [
    "datasetCreation.create_dataset(path_directory, dataset_directory_seg, features = False)"
   ]
  }
 ],
 "metadata": {
  "kernelspec": {
   "display_name": "project_2",
   "language": "python",
   "name": "project_2"
  },
  "language_info": {
   "codemirror_mode": {
    "name": "ipython",
    "version": 3
   },
   "file_extension": ".py",
   "mimetype": "text/x-python",
   "name": "python",
   "nbconvert_exporter": "python",
   "pygments_lexer": "ipython3",
   "version": "3.6.12"
  }
 },
 "nbformat": 4,
 "nbformat_minor": 4
}
