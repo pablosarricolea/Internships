{
 "cells": [
  {
   "cell_type": "markdown",
   "metadata": {},
   "source": [
    "### Generating Datasets"
   ]
  },
  {
   "cell_type": "code",
   "execution_count": null,
   "metadata": {},
   "outputs": [],
   "source": [
    "import datasetCreation\n",
    "import os\n",
    "from tensorflow.python.client import device_lib\n",
    "import tensorflow as tf\n",
    "\n",
    "def get_available_devices():\n",
    "    local_device_protos = device_lib.list_local_devices()\n",
    "    return [x.name for x in local_device_protos]\n",
    "\n",
    "#Run from server\n",
    "\n",
    "gpu7 = \"GPU-71b4cdfc-e381-0b98-9b24-4fc06284b496\" \n",
    "gpu5 = \"GPU-99d0769a-9f86-4800-a40e-2320dddcf5d1\" \n",
    "gpu6 = \"GPU-7423cfb5-cff4-ec4d-7e96-ea6e1591d56f\"\n",
    "gpu4 = \"GPU-c0a8738f-6dd0-1b78-c38f-4969fd3886a8\"\n",
    "\n",
    "os.environ[\"CUDA_VISIBLE_DEVICES\"]= gpu7# + \",\" + gpu6\n",
    "print(get_available_devices())\n",
    "print(\"Num GPUs Available: \", len(tf.config.experimental.list_physical_devices('GPU')))"
   ]
  },
  {
   "cell_type": "code",
   "execution_count": null,
   "metadata": {},
   "outputs": [],
   "source": [
    "path_directory = os.path.join(\"..\",\"data\",\"MICCAI_BraTS2020_TrainingData\")\n",
    "\n",
    "dataset_directory_t1 = os.path.join(\"..\",\"data\", 't1_images.hdf5')\n",
    "dataset_directory_t1ce = os.path.join(\"..\",\"data\", 't1ce_images.hdf5')\n",
    "dataset_directory_t2 = os.path.join(\"..\",\"data\", 't2_images.hdf5')\n",
    "dataset_directory_flair = os.path.join(\"..\",\"data\", 'flair_images.hdf5')\n",
    "dataset_directory_seg = os.path.join(\"..\",\"data\", 'seg_images.hdf5')\n",
    "dataset_directory_weight_map = os.path.join(\"..\",\"data\", 'weight_map.hdf5')"
   ]
  },
  {
   "cell_type": "code",
   "execution_count": null,
   "metadata": {},
   "outputs": [],
   "source": []
  },
  {
   "cell_type": "code",
   "execution_count": null,
   "metadata": {},
   "outputs": [],
   "source": []
  },
  {
   "cell_type": "code",
   "execution_count": null,
   "metadata": {},
   "outputs": [],
   "source": [
    "\"\"\"\n",
    "command for creating dataset with images\n",
    "\"\"\"\n",
    "\n",
    "datasetCreation.create_dataset(path_directory, dataset_directory_t1, features = True)\n",
    "datasetCreation.create_dataset(path_directory, dataset_directory_t1ce, features = True)\n",
    "datasetCreation.create_dataset(path_directory, dataset_directory_t2, features = True)\n",
    "datasetCreation.create_dataset(path_directory, dataset_directory_flair, features = True)"
   ]
  },
  {
   "cell_type": "code",
   "execution_count": null,
   "metadata": {},
   "outputs": [],
   "source": [
    "datasetCreation.create_dataset(path_directory, dataset_directory_seg, features = False)"
   ]
  },
  {
   "cell_type": "code",
   "execution_count": null,
   "metadata": {},
   "outputs": [],
   "source": []
  },
  {
   "cell_type": "markdown",
   "metadata": {},
   "source": [
    "creating weight maps"
   ]
  },
  {
   "cell_type": "code",
   "execution_count": null,
   "metadata": {},
   "outputs": [],
   "source": [
    "import os\n",
    "import numpy as np\n",
    "import matplotlib.pyplot as plt  # for visualising and debugging\n",
    "from scipy.ndimage.morphology import distance_transform_edt\n",
    "from skimage.io import imsave, imread\n",
    "from skimage.segmentation import find_boundaries\n",
    "from helperFunctions import visualize, denormalize, visualize_histories, load_images_from_hdf5\n",
    "\n",
    "#from demos.unet.file_sorter import get_user_args\n",
    "\n",
    "W_0, SIGMA = 2, 1\n",
    "\n",
    "def construct_weights_and_mask(img):\n",
    "    seg_boundaries = find_boundaries(img, mode='inner')\n",
    "\n",
    "    bin_img = img > 0\n",
    "    # take segmentations, ignore boundaries\n",
    "    binary_with_borders = np.bitwise_xor(bin_img, seg_boundaries)\n",
    "\n",
    "    foreground_weight = 1 - binary_with_borders.sum() / binary_with_borders.size\n",
    "    background_weight = 1 - foreground_weight\n",
    "\n",
    "    # build euclidean distances maps for each cell:\n",
    "    cell_ids = [x for x in np.unique(img) if x > 0]\n",
    "    distances = np.zeros((img.shape[0], img.shape[1], len(cell_ids)))\n",
    "\n",
    "    for i, cell_id in enumerate(cell_ids):\n",
    "        distances[..., i] = distance_transform_edt(img != cell_id)\n",
    "\n",
    "    # we need to look at the two smallest distances\n",
    "    distances.sort(axis=-1)\n",
    "\n",
    "    \n",
    "    if np.shape(distances)[2] == 0 or np.shape(distances)[2] == 1:\n",
    "        weight_map = background_weight\n",
    "\n",
    "    else:\n",
    "        \n",
    "        weight_map = W_0 * np.exp(-(1 / (2 * SIGMA ** 2)) * ((distances[..., 0] + distances[..., 1]) ** 2))\n",
    "        weight_map[binary_with_borders] = foreground_weight\n",
    "        weight_map[~binary_with_borders] += background_weight\n",
    "    \n",
    "    #return weight_map, binary_with_borders\n",
    "    return weight_map\n",
    "\n",
    "#weight_map, binary_with_borders = construct_weights_and_mask(train_labels[...,100])"
   ]
  },
  {
   "cell_type": "code",
   "execution_count": null,
   "metadata": {},
   "outputs": [],
   "source": [
    "def assign_weights_to_images(image_labels, weights):\n",
    "    \"\"\"\n",
    "    create an image with weights according to the labels indicated\n",
    "    \"\"\" \n",
    "    labels = range(0,5)\n",
    "    new_img = np.zeros(np.shape(image_labels))\n",
    "    for i in range(len(new_img)):\n",
    "        for j in range(len(new_img)):\n",
    "            for k in labels:\n",
    "                if image_labels[i,j] == k:\n",
    "                    new_img[i,j] = weights[k]\n",
    "                    break\n",
    "\n",
    "    return new_img"
   ]
  },
  {
   "cell_type": "code",
   "execution_count": null,
   "metadata": {},
   "outputs": [],
   "source": []
  },
  {
   "cell_type": "code",
   "execution_count": null,
   "metadata": {},
   "outputs": [],
   "source": [
    "new_img = assign_weights_to_images(train_labels[...,100], weights)"
   ]
  },
  {
   "cell_type": "code",
   "execution_count": null,
   "metadata": {},
   "outputs": [],
   "source": []
  },
  {
   "cell_type": "code",
   "execution_count": null,
   "metadata": {},
   "outputs": [],
   "source": [
    "np.max(final_weights)"
   ]
  },
  {
   "cell_type": "code",
   "execution_count": null,
   "metadata": {},
   "outputs": [],
   "source": [
    "plt.imshow(final_weights)\n",
    "plt.colorbar()"
   ]
  },
  {
   "cell_type": "code",
   "execution_count": null,
   "metadata": {},
   "outputs": [],
   "source": [
    "print(np.shape(weight_map))\n",
    "plt.imshow(weight_map[...,100])\n",
    "plt.imshow(train_labels[...,100])\n",
    "plt.colorbar()"
   ]
  },
  {
   "cell_type": "code",
   "execution_count": null,
   "metadata": {},
   "outputs": [],
   "source": []
  },
  {
   "cell_type": "code",
   "execution_count": null,
   "metadata": {},
   "outputs": [],
   "source": []
  },
  {
   "cell_type": "code",
   "execution_count": null,
   "metadata": {},
   "outputs": [],
   "source": [
    "train_begin = 0\n",
    "train_stop = 369*155\n",
    "n_images = train_stop\n",
    "#weight_map_dist = np.zeros((240,240,n_images))\n",
    "#weight_map_personal = np.zeros((240,240,n_images))\n",
    "final_weight_map = np.zeros((240,240,n_images))\n",
    "weights = [0.1,1.8,1.2,0.01,1.2]\n",
    "\n",
    "train_labels, valid_labels = load_images_from_hdf5(dataset_directory_seg,train_begin,train_stop,n_images)"
   ]
  },
  {
   "cell_type": "code",
   "execution_count": null,
   "metadata": {},
   "outputs": [],
   "source": [
    "for i in range(n_images):\n",
    "    weight_map_dist = construct_weights_and_mask(train_labels[...,i])\n",
    "    weight_map_personal = assign_weights_to_images(train_labels[...,i], weights)\n",
    "    final_weight_map[...,i] = np.add(weight_map_dist, weight_map_personal)"
   ]
  },
  {
   "cell_type": "code",
   "execution_count": null,
   "metadata": {},
   "outputs": [],
   "source": [
    "np.shape(final_weight_map)"
   ]
  },
  {
   "cell_type": "code",
   "execution_count": null,
   "metadata": {
    "scrolled": true
   },
   "outputs": [],
   "source": [
    "from helperFunctions import visualize\n",
    "for i in range(549,550):\n",
    "    visualize(\n",
    "        labels = train_labels[...,i],\n",
    "        weight_map_distances = construct_weights_and_mask(train_labels[...,i]),\n",
    "        weight_map_personal = assign_weights_to_images(train_labels[...,i], weights),\n",
    "        final_weight_map = final_weight_map[...,i]\n",
    "    )"
   ]
  },
  {
   "cell_type": "code",
   "execution_count": null,
   "metadata": {},
   "outputs": [],
   "source": [
    "plt.imshow(final_weight_map[...,550])\n",
    "plt.colorbar()"
   ]
  },
  {
   "cell_type": "code",
   "execution_count": null,
   "metadata": {},
   "outputs": [],
   "source": [
    "np.max(np.add(weight_map_dist[...,540], weight_map_personal[...,540]))"
   ]
  },
  {
   "cell_type": "code",
   "execution_count": null,
   "metadata": {},
   "outputs": [],
   "source": [
    "test = assign_weights_to_images(train_labels[...,550],weights)\n",
    "plt.imshow(test)\n",
    "np.max(test)\n",
    "np.max(weight_map_personal[...,550])"
   ]
  },
  {
   "cell_type": "code",
   "execution_count": null,
   "metadata": {},
   "outputs": [],
   "source": []
  },
  {
   "cell_type": "code",
   "execution_count": null,
   "metadata": {},
   "outputs": [],
   "source": []
  },
  {
   "cell_type": "code",
   "execution_count": null,
   "metadata": {},
   "outputs": [],
   "source": []
  },
  {
   "cell_type": "code",
   "execution_count": null,
   "metadata": {},
   "outputs": [],
   "source": []
  },
  {
   "cell_type": "code",
   "execution_count": null,
   "metadata": {},
   "outputs": [],
   "source": [
    "\"\"\"\n",
    "command for creating dataset with weightmaps\n",
    "\"\"\"\n",
    "datasetCreation.create_h5py(final_weight_map, dataset_directory_weight_map)"
   ]
  },
  {
   "cell_type": "code",
   "execution_count": null,
   "metadata": {},
   "outputs": [],
   "source": []
  }
 ],
 "metadata": {
  "kernelspec": {
   "display_name": "project_2",
   "language": "python",
   "name": "project_2"
  },
  "language_info": {
   "codemirror_mode": {
    "name": "ipython",
    "version": 3
   },
   "file_extension": ".py",
   "mimetype": "text/x-python",
   "name": "python",
   "nbconvert_exporter": "python",
   "pygments_lexer": "ipython3",
   "version": "3.6.12"
  }
 },
 "nbformat": 4,
 "nbformat_minor": 4
}
