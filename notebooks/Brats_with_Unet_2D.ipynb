{
 "cells": [
  {
   "cell_type": "code",
   "execution_count": 1,
   "metadata": {
    "executionInfo": {
     "elapsed": 600,
     "status": "ok",
     "timestamp": 1607558031996,
     "user": {
      "displayName": "PABLO SARRICOLEA VALENCIANO",
      "photoUrl": "",
      "userId": "03055843788957929628"
     },
     "user_tz": -60
    },
    "id": "ncjggBBMM8Q6"
   },
   "outputs": [],
   "source": [
    "#Run from server\n",
    "\n",
    "gpu4 = \"GPU-71b4cdfc-e381-0b98-9b24-4fc06284b496\" \n",
    "gpu5 = \"GPU-99d0769a-9f86-4800-a40e-2320dddcf5d1\" \n",
    "gpu6 = \"GPU-7423cfb5-cff4-ec4d-7e96-ea6e1591d56f\"\n",
    "gpu7 = \"GPU-c0a8738f-6dd0-1b78-c38f-4969fd3886a8\"\n",
    "\n",
    "import os\n",
    "#\n",
    "os.environ[\"CUDA_VISIBLE_DEVICES\"]= gpu6 + \",\" + gpu5"
   ]
  },
  {
   "cell_type": "code",
   "execution_count": 2,
   "metadata": {},
   "outputs": [
    {
     "name": "stdout",
     "output_type": "stream",
     "text": [
      "['/device:CPU:0', '/device:XLA_CPU:0', '/device:XLA_GPU:0', '/device:XLA_GPU:1', '/device:GPU:0', '/device:GPU:1']\n"
     ]
    }
   ],
   "source": [
    "from tensorflow.python.client import device_lib\n",
    "\n",
    "def get_available_devices():\n",
    "    local_device_protos = device_lib.list_local_devices()\n",
    "    return [x.name for x in local_device_protos]\n",
    "\n",
    "print(get_available_devices())"
   ]
  },
  {
   "cell_type": "code",
   "execution_count": 3,
   "metadata": {},
   "outputs": [
    {
     "data": {
      "text/plain": [
       "'GPU-7423cfb5-cff4-ec4d-7e96-ea6e1591d56f,GPU-99d0769a-9f86-4800-a40e-2320dddcf5d1'"
      ]
     },
     "execution_count": 3,
     "metadata": {},
     "output_type": "execute_result"
    }
   ],
   "source": [
    "os.environ[\"CUDA_VISIBLE_DEVICES\"]"
   ]
  },
  {
   "cell_type": "code",
   "execution_count": null,
   "metadata": {},
   "outputs": [],
   "source": []
  },
  {
   "cell_type": "code",
   "execution_count": null,
   "metadata": {
    "colab": {
     "base_uri": "https://localhost:8080/"
    },
    "executionInfo": {
     "elapsed": 34726,
     "status": "ok",
     "timestamp": 1607558066128,
     "user": {
      "displayName": "PABLO SARRICOLEA VALENCIANO",
      "photoUrl": "",
      "userId": "03055843788957929628"
     },
     "user_tz": -60
    },
    "id": "6Wd25fj01M7m",
    "outputId": "c6741e13-7d7b-4ddc-e70a-fd86eeb9c918"
   },
   "outputs": [],
   "source": [
    "#Run from google colab\n",
    "\n",
    "!pip install SimpleITK\n",
    "\n",
    "from google.colab import drive\n",
    "drive.mount('/content/gdrive')\n"
   ]
  },
  {
   "cell_type": "code",
   "execution_count": null,
   "metadata": {
    "colab": {
     "base_uri": "https://localhost:8080/"
    },
    "executionInfo": {
     "elapsed": 35105,
     "status": "ok",
     "timestamp": 1607558066514,
     "user": {
      "displayName": "PABLO SARRICOLEA VALENCIANO",
      "photoUrl": "",
      "userId": "03055843788957929628"
     },
     "user_tz": -60
    },
    "id": "EqJdeezG6fLH",
    "outputId": "a97c460b-21a3-455d-e4cf-a5457654cc07"
   },
   "outputs": [],
   "source": [
    "%cd /content/gdrive/MyDrive/2 TUM/Project/Internships/notebooks"
   ]
  },
  {
   "cell_type": "code",
   "execution_count": null,
   "metadata": {},
   "outputs": [],
   "source": []
  },
  {
   "cell_type": "code",
   "execution_count": null,
   "metadata": {},
   "outputs": [],
   "source": []
  },
  {
   "cell_type": "code",
   "execution_count": 4,
   "metadata": {
    "executionInfo": {
     "elapsed": 38609,
     "status": "ok",
     "timestamp": 1607558070023,
     "user": {
      "displayName": "PABLO SARRICOLEA VALENCIANO",
      "photoUrl": "",
      "userId": "03055843788957929628"
     },
     "user_tz": -60
    },
    "id": "BjUoBkLpM8RI"
   },
   "outputs": [],
   "source": [
    "import os\n",
    "import matplotlib.pyplot as plt\n",
    "import numpy as np\n",
    "import SimpleITK as sitk\n",
    "import tensorflow as tf\n",
    "from sklearn.model_selection import train_test_split\n",
    "import cv2\n",
    "import random"
   ]
  },
  {
   "cell_type": "code",
   "execution_count": 5,
   "metadata": {
    "executionInfo": {
     "elapsed": 38606,
     "status": "ok",
     "timestamp": 1607558070023,
     "user": {
      "displayName": "PABLO SARRICOLEA VALENCIANO",
      "photoUrl": "",
      "userId": "03055843788957929628"
     },
     "user_tz": -60
    },
    "id": "MNqOa1hrM8RJ"
   },
   "outputs": [],
   "source": [
    "import tensorflow as tf\n",
    "from tensorflow.keras import backend as K\n",
    "from tensorflow.keras.layers import Activation, Lambda, GlobalAveragePooling2D, concatenate\n",
    "from tensorflow.keras.layers import UpSampling2D, Conv2D, Dropout, MaxPooling2D, Conv2DTranspose\n",
    "from tensorflow.keras.layers import Dense, Flatten, Input\n",
    "from tensorflow.keras.models import Model, Sequential, load_model\n",
    "from tensorflow.keras.callbacks import ModelCheckpoint, ReduceLROnPlateau\n",
    "from tensorflow.keras.optimizers import RMSprop, Adam, SGD"
   ]
  },
  {
   "cell_type": "code",
   "execution_count": 6,
   "metadata": {},
   "outputs": [
    {
     "data": {
      "text/plain": [
       "'2.3.1'"
      ]
     },
     "execution_count": 6,
     "metadata": {},
     "output_type": "execute_result"
    }
   ],
   "source": [
    "tf.__version__"
   ]
  },
  {
   "cell_type": "code",
   "execution_count": null,
   "metadata": {
    "executionInfo": {
     "elapsed": 38604,
     "status": "ok",
     "timestamp": 1607558070024,
     "user": {
      "displayName": "PABLO SARRICOLEA VALENCIANO",
      "photoUrl": "",
      "userId": "03055843788957929628"
     },
     "user_tz": -60
    },
    "id": "SDFXJLz2M8RK"
   },
   "outputs": [],
   "source": [
    "def myshow(img):\n",
    "    nda = sitk.GetArrayViewFromImage(img)\n",
    "    plt.imshow(nda)"
   ]
  },
  {
   "cell_type": "code",
   "execution_count": null,
   "metadata": {
    "executionInfo": {
     "elapsed": 44810,
     "status": "ok",
     "timestamp": 1607558076233,
     "user": {
      "displayName": "PABLO SARRICOLEA VALENCIANO",
      "photoUrl": "",
      "userId": "03055843788957929628"
     },
     "user_tz": -60
    },
    "id": "bY-nywdUM8RK"
   },
   "outputs": [],
   "source": [
    "img_t1 = sitk.ReadImage(os.path.join(\"..\", \"data\",\"MICCAI_BraTS2020_TrainingData\",\"BraTS20_Training_001\",\"BraTS20_Training_001_t1.nii.gz\"))\n",
    "img_t1ce = sitk.ReadImage(os.path.join(\"..\", \"data\",\"MICCAI_BraTS2020_TrainingData\",\"BraTS20_Training_001\",\"BraTS20_Training_001_t1ce.nii.gz\"))\n",
    "img_t2 = sitk.ReadImage(os.path.join(\"..\", \"data\",\"MICCAI_BraTS2020_TrainingData\",\"BraTS20_Training_001\",\"BraTS20_Training_001_t2.nii.gz\"))\n",
    "img_flair = sitk.ReadImage(os.path.join(\"..\", \"data\",\"MICCAI_BraTS2020_TrainingData\",\"BraTS20_Training_001\",\"BraTS20_Training_001_flair.nii.gz\"))\n",
    "img_seg = sitk.ReadImage(os.path.join(\"..\", \"data\",\"MICCAI_BraTS2020_TrainingData\",\"BraTS20_Training_001\",\"BraTS20_Training_001_seg.nii.gz\"))\n",
    "\n",
    "\"\"\"\n",
    "img_t1 = sitk.Cast(img_t1,sitk.sitkFloat32) #to ceonvert png to sitk\n",
    "img_t1ce = sitk.Cast(img_t1ce,sitk.sitkFloat32) #to ceonvert png to sitk\n",
    "img_t2 = sitk.Cast(img,sitk_t2.sitkFloat32) #to ceonvert png to sitk\n",
    "img_flair = sitk.Cast(img_flair,sitk.sitkFloat32) #to ceonvert png to sitk\n",
    "img_seg = sitk.Cast(img_seg,sitk.sitkFloat32) #to ceonvert png to sitk\n",
    "\n",
    "print(img.GetSize())\n",
    "print(img.GetOrigin()) # the top left corner usually\n",
    "print(img.GetSpacing()) #physical size of each pixel\n",
    "print(img.GetDirection()) #3D matrix\n",
    "print(img.GetNumberOfComponentsPerPixel()) #number of channels in one pixel\n",
    "\"\"\"\n",
    "\n",
    "width = img_t1.GetWidth()\n",
    "height = img_t1.GetHeight()\n",
    "depth = img_t1.GetDepth()\n",
    "\n",
    "nda_t1 = sitk.GetArrayViewFromImage(img_t1)\n",
    "nda_t1ce = sitk.GetArrayViewFromImage(img_t1ce)\n",
    "nda_t2 = sitk.GetArrayViewFromImage(img_t2)\n",
    "nda_flair = sitk.GetArrayViewFromImage(img_flair)\n",
    "nda_seg = sitk.GetArrayViewFromImage(img_seg)"
   ]
  },
  {
   "cell_type": "code",
   "execution_count": null,
   "metadata": {
    "colab": {
     "base_uri": "https://localhost:8080/",
     "height": 159
    },
    "executionInfo": {
     "elapsed": 45373,
     "status": "ok",
     "timestamp": 1607558076801,
     "user": {
      "displayName": "PABLO SARRICOLEA VALENCIANO",
      "photoUrl": "",
      "userId": "03055843788957929628"
     },
     "user_tz": -60
    },
    "id": "Wx_XucrQM8RK",
    "outputId": "1cc1770a-0265-4393-fb6c-b1141aa850e2",
    "scrolled": true
   },
   "outputs": [],
   "source": [
    "npa_zslice_t1 = sitk.GetArrayViewFromImage(img_t1)[int(depth/2),:,:]\n",
    "npa_zslice_t1ce = sitk.GetArrayViewFromImage(img_t1ce)[int(depth/2),:,:]\n",
    "npa_zslice_t2 = sitk.GetArrayViewFromImage(img_t2)[int(depth/2),:,:]\n",
    "npa_zslice_flair = sitk.GetArrayViewFromImage(img_flair)[int(depth/2),:,:]\n",
    "npa_zslice_seg = sitk.GetArrayViewFromImage(img_seg)[int(depth/2),:,:]\n",
    "\n",
    "fig = plt.figure(figsize=(10,3))\n",
    "\n",
    "fig.add_subplot(1,5,1)\n",
    "plt.imshow(npa_zslice_t1, cmap=plt.cm.Greys_r)\n",
    "plt.title('T1', fontsize=10)\n",
    "plt.axis('off')\n",
    "\n",
    "fig.add_subplot(1,5,2)\n",
    "plt.imshow(npa_zslice_t1ce, cmap=plt.cm.Greys_r)\n",
    "plt.title('T1_ce', fontsize=10)\n",
    "plt.axis('off')\n",
    "\n",
    "fig.add_subplot(1,5,3)\n",
    "plt.imshow(npa_zslice_t2, cmap=plt.cm.Greys_r)\n",
    "plt.title('T2', fontsize=10)\n",
    "plt.axis('off')\n",
    "\n",
    "fig.add_subplot(1,5,4)\n",
    "plt.imshow(npa_zslice_flair, cmap=plt.cm.Greys_r)\n",
    "plt.title('flair', fontsize=10)\n",
    "plt.axis('off')\n",
    "\n",
    "fig.add_subplot(1,5,5)\n",
    "plt.imshow(npa_zslice_seg, cmap=plt.cm.Greys_r)\n",
    "plt.title('Segmentation', fontsize=10)\n",
    "plt.axis('off')"
   ]
  },
  {
   "cell_type": "code",
   "execution_count": 7,
   "metadata": {
    "colab": {
     "base_uri": "https://localhost:8080/"
    },
    "executionInfo": {
     "elapsed": 67347,
     "status": "ok",
     "timestamp": 1607558098781,
     "user": {
      "displayName": "PABLO SARRICOLEA VALENCIANO",
      "photoUrl": "",
      "userId": "03055843788957929628"
     },
     "user_tz": -60
    },
    "id": "sO-rakilM8RL",
    "outputId": "efa67ef7-06b8-4f58-a83f-af84e612a2d9"
   },
   "outputs": [
    {
     "name": "stdout",
     "output_type": "stream",
     "text": [
      "99\n",
      "99\n"
     ]
    }
   ],
   "source": [
    "ImgDir = os.path.join(\"..\",\"data\",\"MICCAI_BraTS2020_TrainingData\")\n",
    "features_path = list()\n",
    "labels_path = list()\n",
    "count = 0\n",
    "limit = 100\n",
    "\n",
    "for folder in os.listdir(ImgDir):\n",
    "    count +=1\n",
    "    if 'Training' in folder and count<limit:\n",
    "        new_dir = os.path.join(ImgDir,folder)\n",
    "        data = os.listdir(new_dir)\n",
    "        for files in data:\n",
    "            if 'flair' in files:\n",
    "                features_path.append(os.path.join(new_dir, files))\n",
    "            if 'seg' in files:\n",
    "                labels_path.append(os.path.join(new_dir, files))\n",
    "\n",
    "print(len(features_path))\n",
    "print(len(labels_path))\n",
    "\n",
    "X=features_path\n",
    "Y=labels_path"
   ]
  },
  {
   "cell_type": "code",
   "execution_count": 8,
   "metadata": {
    "executionInfo": {
     "elapsed": 67344,
     "status": "ok",
     "timestamp": 1607558098783,
     "user": {
      "displayName": "PABLO SARRICOLEA VALENCIANO",
      "photoUrl": "",
      "userId": "03055843788957929628"
     },
     "user_tz": -60
    },
    "id": "gDRuLlbeM8RN"
   },
   "outputs": [],
   "source": [
    "X_train, X_val, y_train, y_val = train_test_split(X, Y, test_size=0.1, random_state=1)"
   ]
  },
  {
   "cell_type": "code",
   "execution_count": null,
   "metadata": {
    "colab": {
     "base_uri": "https://localhost:8080/"
    },
    "executionInfo": {
     "elapsed": 76276,
     "status": "ok",
     "timestamp": 1607558107719,
     "user": {
      "displayName": "PABLO SARRICOLEA VALENCIANO",
      "photoUrl": "",
      "userId": "03055843788957929628"
     },
     "user_tz": -60
    },
    "id": "m1pT2NROM8RN",
    "outputId": "9ff75ca6-8a4e-4398-ca46-2da598a46576"
   },
   "outputs": [],
   "source": [
    "def keras_generator_train_val_test(batch_size, choice=\"train\"):\n",
    "\n",
    "    if choice == \"train\":\n",
    "        X = X_train\n",
    "        Y = y_train\n",
    "    elif choice == \"val\":\n",
    "        X = X_val\n",
    "        y = y_val\n",
    "    else:\n",
    "        print(\"Invalid Option\")\n",
    "        return False\n",
    "    \n",
    "    while True:\n",
    "        x_batch = []\n",
    "        y_batch = []\n",
    "\n",
    "        num=batch_size\n",
    "        \n",
    "        for i in range(batch_size):\n",
    "            \n",
    "            rand = random.choice(range(len(X)))\n",
    "\n",
    "            x_path = X[rand]\n",
    "            y_path = Y[rand]\n",
    "\n",
    "            x = sitk.GetArrayViewFromImage(sitk.ReadImage(x_path)) / 255.\n",
    "            y = sitk.GetArrayViewFromImage(sitk.ReadImage(y_path)) / 255.\n",
    "            \n",
    "            #x = sitk.GetArrayViewFromImage(sitk.Cast((sitk.ReadImage(x_path)),sitk.sitkUInt16))\n",
    "            #y = sitk.GetArrayViewFromImage(sitk.Cast((sitk.ReadImage(y_path)),sitk.sitkUInt16))\n",
    "            \n",
    "            #x = np.moveaxis(x, [0, 1, 2], [-1, -2, -3])\n",
    "            #y = np.moveaxis(y, [0, 1, 2], [-1, -2, -3])\n",
    "            \n",
    "            \n",
    "            #x = np.resize(x,(240,240,128,1))\n",
    "            #y = np.resize(y,(240,240,128,1))\n",
    "\n",
    "            x_batch.append(x)\n",
    "            y_batch.append(y)\n",
    "\n",
    "        x_batch = np.concatenate(np.array(x_batch),0)\n",
    "        y_batch = np.concatenate(np.array(y_batch),0)\n",
    "        \n",
    "        yield x_batch, y_batch\n",
    "\n",
    "for x, y in keras_generator_train_val_test(100, choice=\"train\"):\n",
    "    print(x.shape, y.shape)\n",
    "    break"
   ]
  },
  {
   "cell_type": "code",
   "execution_count": 11,
   "metadata": {},
   "outputs": [],
   "source": [
    "x_batch = []\n",
    "y_batch = []\n",
    "\n",
    "training_img = 100\n",
    "\n",
    "for i in range(training_img):\n",
    "\n",
    "    rand = random.choice(range(len(X)))\n",
    "\n",
    "    x_path = X[rand]\n",
    "    y_path = Y[rand]\n",
    "\n",
    "    x = sitk.GetArrayViewFromImage(sitk.ReadImage(x_path)) / 255.\n",
    "    y = sitk.GetArrayViewFromImage(sitk.ReadImage(y_path)) / 255.\n",
    "\n",
    "    x_batch.append(x)\n",
    "    y_batch.append(y)\n",
    "\n",
    "x_data = np.concatenate(np.array(x_batch),0)\n",
    "y_data = np.concatenate(np.array(y_batch),0)"
   ]
  },
  {
   "cell_type": "code",
   "execution_count": 12,
   "metadata": {},
   "outputs": [],
   "source": [
    "import math\n",
    "import datetime\n",
    "import tensorflow.python.keras\n",
    "\n",
    "batch_size = 32\n",
    "\n",
    "class BRATSSequence(tensorflow.keras.utils.Sequence):\n",
    "\n",
    "    def __init__(self, x_set, y_set, batch_size):\n",
    "        self.x, self.y = X, Y\n",
    "        self.batch_size = batch_size\n",
    "\n",
    "    def __len__(self):\n",
    "        return math.ceil(len(self.x) / self.batch_size)\n",
    "\n",
    "    def __getitem__(self, idx):\n",
    "        batch_x = self.x[idx * self.batch_size:(idx + 1) *\n",
    "        self.batch_size]\n",
    "        batch_y = self.y[idx * self.batch_size:(idx + 1) *\n",
    "        self.batch_size]\n",
    "\n",
    "        return batch_x, batch_y\n",
    "\n",
    "    #def on_epoch_end(self, epoch, logs=None):\n",
    "        \n",
    "        #print(\"epoch finished\")\n",
    "\n",
    "sequence = BRATSSequence(x_data, y_data, batch_size = batch_size)"
   ]
  },
  {
   "cell_type": "code",
   "execution_count": 18,
   "metadata": {},
   "outputs": [
    {
     "data": {
      "text/plain": [
       "(15500, 240, 240)"
      ]
     },
     "execution_count": 18,
     "metadata": {},
     "output_type": "execute_result"
    }
   ],
   "source": [
    "np.shape(x_data)"
   ]
  },
  {
   "cell_type": "code",
   "execution_count": null,
   "metadata": {
    "executionInfo": {
     "elapsed": 76272,
     "status": "ok",
     "timestamp": 1607558107720,
     "user": {
      "displayName": "PABLO SARRICOLEA VALENCIANO",
      "photoUrl": "",
      "userId": "03055843788957929628"
     },
     "user_tz": -60
    },
    "id": "5AE-jpQsmAxT"
   },
   "outputs": [],
   "source": [
    "# Here, `x_set` is list of path to the images\n",
    "# and `y_set` are the associated classes.\n",
    "\n",
    "import math\n",
    "#import keras\n",
    "import datetime\n",
    "import tensorflow.python.keras\n",
    "\n",
    "batch_size = 1\n",
    "\n",
    "class BRATSSequence(tensorflow.keras.utils.Sequence):\n",
    "\n",
    "    def __init__(self, x_set, y_set, batch_size):\n",
    "        self.x, self.y = X, Y\n",
    "        self.batch_size = batch_size\n",
    "\n",
    "    def __len__(self):\n",
    "        return math.ceil(len(self.x) / self.batch_size)\n",
    "\n",
    "    def __getitem__(self, idx):\n",
    "        batch_x = self.x[idx * self.batch_size:(idx + 1) *\n",
    "        self.batch_size]\n",
    "        batch_y = self.y[idx * self.batch_size:(idx + 1) *\n",
    "        self.batch_size]\n",
    "\n",
    "        x_batch = []\n",
    "        y_batch = []\n",
    "\n",
    "        for i in range(training_img):\n",
    "            \n",
    "            rand = random.choice(range(len(X)))\n",
    "\n",
    "            x_path = X[rand]\n",
    "            y_path = Y[rand]\n",
    "            \n",
    "            x = sitk.GetArrayViewFromImage(sitk.ReadImage(x_path)) / 255.\n",
    "            y = sitk.GetArrayViewFromImage(sitk.ReadImage(y_path)) / 255.\n",
    "\n",
    "            #x = sitk.GetArrayViewFromImage(sitk.Cast((sitk.ReadImage(x_path)),sitk.sitkFloat32))\n",
    "            #y = sitk.GetArrayViewFromImage(sitk.Cast((sitk.ReadImage(y_path)),sitk.sitkFloat32))\n",
    "            \n",
    "            #x = np.moveaxis(x, [0, 1, 2], [-1, -2, -3])\n",
    "            #y = np.moveaxis(y, [0, 1, 2], [-1, -2, -3])\n",
    "            \n",
    "            #x = crop_center(x,64,64,64)\n",
    "            #y = crop_center(y,64,64,64)\n",
    "\n",
    "            #x = np.resize(x,(64,64,64,1))\n",
    "            #y = np.resize(y,(64,64,64,1))\n",
    "            \n",
    "            #x = np.resize(x,(240,240,128,1))\n",
    "            #y = np.resize(y,(240,240,128,1))\n",
    "\n",
    "            x_batch.append(x)\n",
    "            y_batch.append(y)\n",
    "\n",
    "        x_batch = np.concatenate(np.array(x_batch),0)\n",
    "        y_batch = np.concatenate(np.array(y_batch),0)\n",
    "        \n",
    "        print(np.shape(y_batch))\n",
    "        print(np.shape(x_batch))\n",
    "\n",
    "        return x_batch, y_batch\n",
    "\n",
    "    #def on_epoch_end(self, epoch, logs=None):\n",
    "        \n",
    "        #print(\"epoch finished\")\n",
    "\n",
    "sequence = BRATSSequence(X, Y, batch_size = batch_size)"
   ]
  },
  {
   "cell_type": "code",
   "execution_count": 19,
   "metadata": {
    "colab": {
     "base_uri": "https://localhost:8080/"
    },
    "executionInfo": {
     "elapsed": 76270,
     "status": "ok",
     "timestamp": 1607558107721,
     "user": {
      "displayName": "PABLO SARRICOLEA VALENCIANO",
      "photoUrl": "",
      "userId": "03055843788957929628"
     },
     "user_tz": -60
    },
    "id": "QzeEUINMhjtk",
    "outputId": "e9a92223-6438-4297-9327-90e7d2415512"
   },
   "outputs": [],
   "source": [
    "X_train, X_val, y_train, y_val = train_test_split(x_data, y_data, test_size=0.1, random_state=1)"
   ]
  },
  {
   "cell_type": "code",
   "execution_count": null,
   "metadata": {
    "colab": {
     "base_uri": "https://localhost:8080/",
     "height": 307
    },
    "executionInfo": {
     "elapsed": 77008,
     "status": "ok",
     "timestamp": 1607558108465,
     "user": {
      "displayName": "PABLO SARRICOLEA VALENCIANO",
      "photoUrl": "",
      "userId": "03055843788957929628"
     },
     "user_tz": -60
    },
    "id": "Qry-rSxxgcF5",
    "outputId": "5ad3bd44-150a-4bd2-dc29-00eea06a8541"
   },
   "outputs": [],
   "source": [
    "plt.figure(figsize=(20,10))\n",
    "\n",
    "plt.subplot(241)\n",
    "plt.title('Flair')\n",
    "plt.axis('off')\n",
    "plt.imshow(x[:, :, 120])\n",
    "plt.subplot(242)\n",
    "plt.title('Ground Truth(Full)')\n",
    "plt.axis('off')\n",
    "plt.imshow(y[:, :, 120])"
   ]
  },
  {
   "cell_type": "code",
   "execution_count": 13,
   "metadata": {},
   "outputs": [],
   "source": [
    "IMG_HEIGHT = 240\n",
    "IMG_WIDTH = 240\n",
    "smooth = 0.005"
   ]
  },
  {
   "cell_type": "code",
   "execution_count": 25,
   "metadata": {},
   "outputs": [],
   "source": [
    "def dice_coef(y_true, y_pred):\n",
    "    y_true_f = K.flatten(y_true)\n",
    "    y_pred_f = K.flatten(y_pred)\n",
    "    intersection = K.sum(y_true_f * y_pred_f)\n",
    "    return (2. * intersection + smooth) / (K.sum(y_true_f) + K.sum(y_pred_f) + smooth)\n",
    "\n",
    "\n",
    "def dice_coef_loss(y_true, y_pred):\n",
    "    return 1-dice_coef(y_true, y_pred)\n",
    "\n",
    "def get_model():\n",
    "    in1 = Input(shape=(IMG_HEIGHT, IMG_WIDTH, 1 ))\n",
    "\n",
    "    conv1 = Conv2D(8, (3, 3), activation='relu', kernel_initializer='he_normal', padding='same')(in1)\n",
    "    conv1 = Dropout(0.5)(conv1)\n",
    "    conv1 = Conv2D(8, (3, 3), activation='relu', kernel_initializer='he_normal', padding='same')(conv1)\n",
    "    pool1 = MaxPooling2D((2, 2))(conv1)\n",
    "\n",
    "    conv2 = Conv2D(16, (3, 3), activation='relu', kernel_initializer='he_normal', padding='same')(pool1)\n",
    "    conv2 = Dropout(0.5)(conv2)\n",
    "    conv2 = Conv2D(16, (3, 3), activation='relu', kernel_initializer='he_normal', padding='same')(conv2)\n",
    "    pool2 = MaxPooling2D((2, 2))(conv2)\n",
    "\n",
    "    conv3 = Conv2D(32, (3, 3), activation='relu', kernel_initializer='he_normal', padding='same')(pool2)\n",
    "    conv3 = Dropout(0.5)(conv3)\n",
    "    conv3 = Conv2D(32, (3, 3), activation='relu', kernel_initializer='he_normal', padding='same')(conv3)\n",
    "    pool3 = MaxPooling2D((2, 2))(conv3)\n",
    "\n",
    "    conv4 = Conv2D(64, (3, 3), activation='relu', kernel_initializer='he_normal', padding='same')(pool3)\n",
    "    conv4 = Dropout(0.5)(conv4)\n",
    "    conv4 = Conv2D(64, (3, 3), activation='relu', kernel_initializer='he_normal', padding='same')(conv4)\n",
    "\n",
    "    up1 = concatenate([UpSampling2D((2, 2))(conv4), conv3], axis=-1)\n",
    "    conv5 = Conv2D(32, (3, 3), activation='relu', kernel_initializer='he_normal', padding='same')(up1)\n",
    "    conv5 = Dropout(0.5)(conv5)\n",
    "    conv5 = Conv2D(32, (3, 3), activation='relu', kernel_initializer='he_normal', padding='same')(conv5)\n",
    "    \n",
    "    up2 = concatenate([UpSampling2D((2, 2))(conv5), conv2], axis=-1)\n",
    "    conv6 = Conv2D(16, (3, 3), activation='relu', kernel_initializer='he_normal', padding='same')(up2)\n",
    "    conv6 = Dropout(0.5)(conv6)\n",
    "    conv6 = Conv2D(16, (3, 3), activation='relu', kernel_initializer='he_normal', padding='same')(conv6)\n",
    "\n",
    "    up2 = concatenate([UpSampling2D((2, 2))(conv6), conv1], axis=-1)\n",
    "    conv7 = Conv2D(8, (3, 3), activation='relu', kernel_initializer='he_normal', padding='same')(up2)\n",
    "    conv7 = Dropout(0.5)(conv7)\n",
    "    conv7 = Conv2D(8, (3, 3), activation='relu', kernel_initializer='he_normal', padding='same')(conv7)\n",
    "    segmentation = Conv2D(1, (1, 1), activation='sigmoid', name='seg')(conv7)\n",
    "\n",
    "    model = Model(inputs=[in1], outputs=[segmentation])   \n",
    "\n",
    "    model.compile(optimizer=Adam(lr=1e-4), loss=dice_coef_loss, metrics=[dice_coef])\n",
    "\n",
    "\n",
    "    return model"
   ]
  },
  {
   "cell_type": "code",
   "execution_count": 26,
   "metadata": {},
   "outputs": [
    {
     "name": "stdout",
     "output_type": "stream",
     "text": [
      "Model: \"functional_3\"\n",
      "__________________________________________________________________________________________________\n",
      "Layer (type)                    Output Shape         Param #     Connected to                     \n",
      "==================================================================================================\n",
      "input_2 (InputLayer)            [(None, 240, 240, 1) 0                                            \n",
      "__________________________________________________________________________________________________\n",
      "conv2d_14 (Conv2D)              (None, 240, 240, 8)  80          input_2[0][0]                    \n",
      "__________________________________________________________________________________________________\n",
      "dropout_7 (Dropout)             (None, 240, 240, 8)  0           conv2d_14[0][0]                  \n",
      "__________________________________________________________________________________________________\n",
      "conv2d_15 (Conv2D)              (None, 240, 240, 8)  584         dropout_7[0][0]                  \n",
      "__________________________________________________________________________________________________\n",
      "max_pooling2d_3 (MaxPooling2D)  (None, 120, 120, 8)  0           conv2d_15[0][0]                  \n",
      "__________________________________________________________________________________________________\n",
      "conv2d_16 (Conv2D)              (None, 120, 120, 16) 1168        max_pooling2d_3[0][0]            \n",
      "__________________________________________________________________________________________________\n",
      "dropout_8 (Dropout)             (None, 120, 120, 16) 0           conv2d_16[0][0]                  \n",
      "__________________________________________________________________________________________________\n",
      "conv2d_17 (Conv2D)              (None, 120, 120, 16) 2320        dropout_8[0][0]                  \n",
      "__________________________________________________________________________________________________\n",
      "max_pooling2d_4 (MaxPooling2D)  (None, 60, 60, 16)   0           conv2d_17[0][0]                  \n",
      "__________________________________________________________________________________________________\n",
      "conv2d_18 (Conv2D)              (None, 60, 60, 32)   4640        max_pooling2d_4[0][0]            \n",
      "__________________________________________________________________________________________________\n",
      "dropout_9 (Dropout)             (None, 60, 60, 32)   0           conv2d_18[0][0]                  \n",
      "__________________________________________________________________________________________________\n",
      "conv2d_19 (Conv2D)              (None, 60, 60, 32)   9248        dropout_9[0][0]                  \n",
      "__________________________________________________________________________________________________\n",
      "max_pooling2d_5 (MaxPooling2D)  (None, 30, 30, 32)   0           conv2d_19[0][0]                  \n",
      "__________________________________________________________________________________________________\n",
      "conv2d_20 (Conv2D)              (None, 30, 30, 64)   18496       max_pooling2d_5[0][0]            \n",
      "__________________________________________________________________________________________________\n",
      "dropout_10 (Dropout)            (None, 30, 30, 64)   0           conv2d_20[0][0]                  \n",
      "__________________________________________________________________________________________________\n",
      "conv2d_21 (Conv2D)              (None, 30, 30, 64)   36928       dropout_10[0][0]                 \n",
      "__________________________________________________________________________________________________\n",
      "up_sampling2d_3 (UpSampling2D)  (None, 60, 60, 64)   0           conv2d_21[0][0]                  \n",
      "__________________________________________________________________________________________________\n",
      "concatenate_3 (Concatenate)     (None, 60, 60, 96)   0           up_sampling2d_3[0][0]            \n",
      "                                                                 conv2d_19[0][0]                  \n",
      "__________________________________________________________________________________________________\n",
      "conv2d_22 (Conv2D)              (None, 60, 60, 32)   27680       concatenate_3[0][0]              \n",
      "__________________________________________________________________________________________________\n",
      "dropout_11 (Dropout)            (None, 60, 60, 32)   0           conv2d_22[0][0]                  \n",
      "__________________________________________________________________________________________________\n",
      "conv2d_23 (Conv2D)              (None, 60, 60, 32)   9248        dropout_11[0][0]                 \n",
      "__________________________________________________________________________________________________\n",
      "up_sampling2d_4 (UpSampling2D)  (None, 120, 120, 32) 0           conv2d_23[0][0]                  \n",
      "__________________________________________________________________________________________________\n",
      "concatenate_4 (Concatenate)     (None, 120, 120, 48) 0           up_sampling2d_4[0][0]            \n",
      "                                                                 conv2d_17[0][0]                  \n",
      "__________________________________________________________________________________________________\n",
      "conv2d_24 (Conv2D)              (None, 120, 120, 16) 6928        concatenate_4[0][0]              \n",
      "__________________________________________________________________________________________________\n",
      "dropout_12 (Dropout)            (None, 120, 120, 16) 0           conv2d_24[0][0]                  \n",
      "__________________________________________________________________________________________________\n",
      "conv2d_25 (Conv2D)              (None, 120, 120, 16) 2320        dropout_12[0][0]                 \n",
      "__________________________________________________________________________________________________\n",
      "up_sampling2d_5 (UpSampling2D)  (None, 240, 240, 16) 0           conv2d_25[0][0]                  \n",
      "__________________________________________________________________________________________________\n",
      "concatenate_5 (Concatenate)     (None, 240, 240, 24) 0           up_sampling2d_5[0][0]            \n",
      "                                                                 conv2d_15[0][0]                  \n",
      "__________________________________________________________________________________________________\n",
      "conv2d_26 (Conv2D)              (None, 240, 240, 8)  1736        concatenate_5[0][0]              \n",
      "__________________________________________________________________________________________________\n",
      "dropout_13 (Dropout)            (None, 240, 240, 8)  0           conv2d_26[0][0]                  \n",
      "__________________________________________________________________________________________________\n",
      "conv2d_27 (Conv2D)              (None, 240, 240, 8)  584         dropout_13[0][0]                 \n",
      "__________________________________________________________________________________________________\n",
      "seg (Conv2D)                    (None, 240, 240, 1)  9           conv2d_27[0][0]                  \n",
      "==================================================================================================\n",
      "Total params: 121,969\n",
      "Trainable params: 121,969\n",
      "Non-trainable params: 0\n",
      "__________________________________________________________________________________________________\n"
     ]
    }
   ],
   "source": [
    "model2=get_model()\n",
    "model2.summary()"
   ]
  },
  {
   "cell_type": "code",
   "execution_count": 27,
   "metadata": {},
   "outputs": [],
   "source": [
    "validation_tup = (X_val,y_val)"
   ]
  },
  {
   "cell_type": "code",
   "execution_count": 28,
   "metadata": {
    "id": "hSz_UubJjP2W"
   },
   "outputs": [
    {
     "name": "stdout",
     "output_type": "stream",
     "text": [
      "Epoch 1/20\n",
      "  2/436 [..............................] - ETA: 28s - loss: 0.9998 - dice_coef: 1.7063e-04WARNING:tensorflow:Callbacks method `on_train_batch_end` is slow compared to the batch time (batch time: 0.0139s vs `on_train_batch_end` time: 0.0708s). Check your callbacks.\n",
      "436/436 [==============================] - ETA: 0s - loss: 0.9999 - dice_coef: 9.4637e-05WARNING:tensorflow:Callbacks method `on_test_batch_end` is slow compared to the batch time (batch time: 0.0076s vs `on_test_batch_end` time: 0.0183s). Check your callbacks.\n",
      "436/436 [==============================] - 43s 100ms/step - loss: 0.9999 - dice_coef: 9.4637e-05 - val_loss: 1.0000 - val_dice_coef: 3.9172e-05\n",
      "Epoch 2/20\n",
      "436/436 [==============================] - 38s 86ms/step - loss: 1.0000 - dice_coef: 3.4921e-05 - val_loss: 1.0000 - val_dice_coef: 3.9172e-05\n",
      "Epoch 3/20\n",
      "436/436 [==============================] - 38s 88ms/step - loss: 1.0000 - dice_coef: 3.5476e-05 - val_loss: 1.0000 - val_dice_coef: 3.9172e-05\n",
      "Epoch 4/20\n",
      "436/436 [==============================] - 38s 87ms/step - loss: 1.0000 - dice_coef: 3.4793e-05 - val_loss: 1.0000 - val_dice_coef: 3.9172e-05\n",
      "Epoch 5/20\n",
      "436/436 [==============================] - 38s 87ms/step - loss: 1.0000 - dice_coef: 3.4973e-05 - val_loss: 1.0000 - val_dice_coef: 3.9172e-05\n",
      "Epoch 6/20\n",
      "436/436 [==============================] - 38s 86ms/step - loss: 1.0000 - dice_coef: 3.5233e-05 - val_loss: 1.0000 - val_dice_coef: 3.9172e-05\n",
      "Epoch 7/20\n",
      "436/436 [==============================] - 38s 88ms/step - loss: 1.0000 - dice_coef: 3.4642e-05 - val_loss: 1.0000 - val_dice_coef: 3.9172e-05\n",
      "Epoch 8/20\n",
      "436/436 [==============================] - 38s 87ms/step - loss: 1.0000 - dice_coef: 3.5158e-05 - val_loss: 1.0000 - val_dice_coef: 3.9172e-05\n",
      "Epoch 9/20\n",
      "436/436 [==============================] - 38s 87ms/step - loss: 1.0000 - dice_coef: 3.4544e-05 - val_loss: 1.0000 - val_dice_coef: 3.9172e-05\n",
      "Epoch 10/20\n",
      "436/436 [==============================] - 37s 86ms/step - loss: 1.0000 - dice_coef: 3.4434e-05 - val_loss: 1.0000 - val_dice_coef: 3.9172e-05\n",
      "Epoch 11/20\n",
      "112/436 [======>.......................] - ETA: 27s - loss: 1.0000 - dice_coef: 3.4330e-05"
     ]
    },
    {
     "ename": "KeyboardInterrupt",
     "evalue": "",
     "output_type": "error",
     "traceback": [
      "\u001b[0;31m---------------------------------------------------------------------------\u001b[0m",
      "\u001b[0;31mKeyboardInterrupt\u001b[0m                         Traceback (most recent call last)",
      "\u001b[0;32m<ipython-input-28-ab5ae6ecc20c>\u001b[0m in \u001b[0;36m<module>\u001b[0;34m\u001b[0m\n\u001b[0;32m----> 1\u001b[0;31m \u001b[0mmodel2\u001b[0m\u001b[0;34m.\u001b[0m\u001b[0mfit\u001b[0m\u001b[0;34m(\u001b[0m\u001b[0mX_train\u001b[0m\u001b[0;34m,\u001b[0m \u001b[0my_train\u001b[0m\u001b[0;34m,\u001b[0m \u001b[0mbatch_size\u001b[0m \u001b[0;34m=\u001b[0m \u001b[0;36m32\u001b[0m\u001b[0;34m,\u001b[0m \u001b[0mvalidation_data\u001b[0m \u001b[0;34m=\u001b[0m\u001b[0mvalidation_tup\u001b[0m\u001b[0;34m,\u001b[0m \u001b[0mepochs\u001b[0m\u001b[0;34m=\u001b[0m\u001b[0;36m20\u001b[0m\u001b[0;34m,\u001b[0m \u001b[0mverbose\u001b[0m\u001b[0;34m=\u001b[0m\u001b[0;36m1\u001b[0m\u001b[0;34m,\u001b[0m \u001b[0mshuffle\u001b[0m\u001b[0;34m=\u001b[0m\u001b[0;32mTrue\u001b[0m\u001b[0;34m)\u001b[0m\u001b[0;34m\u001b[0m\u001b[0;34m\u001b[0m\u001b[0m\n\u001b[0m",
      "\u001b[0;32m~/virtualenvironment/project_1/lib/python3.6/site-packages/tensorflow/python/keras/engine/training.py\u001b[0m in \u001b[0;36m_method_wrapper\u001b[0;34m(self, *args, **kwargs)\u001b[0m\n\u001b[1;32m    106\u001b[0m   \u001b[0;32mdef\u001b[0m \u001b[0m_method_wrapper\u001b[0m\u001b[0;34m(\u001b[0m\u001b[0mself\u001b[0m\u001b[0;34m,\u001b[0m \u001b[0;34m*\u001b[0m\u001b[0margs\u001b[0m\u001b[0;34m,\u001b[0m \u001b[0;34m**\u001b[0m\u001b[0mkwargs\u001b[0m\u001b[0;34m)\u001b[0m\u001b[0;34m:\u001b[0m\u001b[0;34m\u001b[0m\u001b[0;34m\u001b[0m\u001b[0m\n\u001b[1;32m    107\u001b[0m     \u001b[0;32mif\u001b[0m \u001b[0;32mnot\u001b[0m \u001b[0mself\u001b[0m\u001b[0;34m.\u001b[0m\u001b[0m_in_multi_worker_mode\u001b[0m\u001b[0;34m(\u001b[0m\u001b[0;34m)\u001b[0m\u001b[0;34m:\u001b[0m  \u001b[0;31m# pylint: disable=protected-access\u001b[0m\u001b[0;34m\u001b[0m\u001b[0;34m\u001b[0m\u001b[0m\n\u001b[0;32m--> 108\u001b[0;31m       \u001b[0;32mreturn\u001b[0m \u001b[0mmethod\u001b[0m\u001b[0;34m(\u001b[0m\u001b[0mself\u001b[0m\u001b[0;34m,\u001b[0m \u001b[0;34m*\u001b[0m\u001b[0margs\u001b[0m\u001b[0;34m,\u001b[0m \u001b[0;34m**\u001b[0m\u001b[0mkwargs\u001b[0m\u001b[0;34m)\u001b[0m\u001b[0;34m\u001b[0m\u001b[0;34m\u001b[0m\u001b[0m\n\u001b[0m\u001b[1;32m    109\u001b[0m \u001b[0;34m\u001b[0m\u001b[0m\n\u001b[1;32m    110\u001b[0m     \u001b[0;31m# Running inside `run_distribute_coordinator` already.\u001b[0m\u001b[0;34m\u001b[0m\u001b[0;34m\u001b[0m\u001b[0;34m\u001b[0m\u001b[0m\n",
      "\u001b[0;32m~/virtualenvironment/project_1/lib/python3.6/site-packages/tensorflow/python/keras/engine/training.py\u001b[0m in \u001b[0;36mfit\u001b[0;34m(self, x, y, batch_size, epochs, verbose, callbacks, validation_split, validation_data, shuffle, class_weight, sample_weight, initial_epoch, steps_per_epoch, validation_steps, validation_batch_size, validation_freq, max_queue_size, workers, use_multiprocessing)\u001b[0m\n\u001b[1;32m   1096\u001b[0m                 batch_size=batch_size):\n\u001b[1;32m   1097\u001b[0m               \u001b[0mcallbacks\u001b[0m\u001b[0;34m.\u001b[0m\u001b[0mon_train_batch_begin\u001b[0m\u001b[0;34m(\u001b[0m\u001b[0mstep\u001b[0m\u001b[0;34m)\u001b[0m\u001b[0;34m\u001b[0m\u001b[0;34m\u001b[0m\u001b[0m\n\u001b[0;32m-> 1098\u001b[0;31m               \u001b[0mtmp_logs\u001b[0m \u001b[0;34m=\u001b[0m \u001b[0mtrain_function\u001b[0m\u001b[0;34m(\u001b[0m\u001b[0miterator\u001b[0m\u001b[0;34m)\u001b[0m\u001b[0;34m\u001b[0m\u001b[0;34m\u001b[0m\u001b[0m\n\u001b[0m\u001b[1;32m   1099\u001b[0m               \u001b[0;32mif\u001b[0m \u001b[0mdata_handler\u001b[0m\u001b[0;34m.\u001b[0m\u001b[0mshould_sync\u001b[0m\u001b[0;34m:\u001b[0m\u001b[0;34m\u001b[0m\u001b[0;34m\u001b[0m\u001b[0m\n\u001b[1;32m   1100\u001b[0m                 \u001b[0mcontext\u001b[0m\u001b[0;34m.\u001b[0m\u001b[0masync_wait\u001b[0m\u001b[0;34m(\u001b[0m\u001b[0;34m)\u001b[0m\u001b[0;34m\u001b[0m\u001b[0;34m\u001b[0m\u001b[0m\n",
      "\u001b[0;32m~/virtualenvironment/project_1/lib/python3.6/site-packages/tensorflow/python/eager/def_function.py\u001b[0m in \u001b[0;36m__call__\u001b[0;34m(self, *args, **kwds)\u001b[0m\n\u001b[1;32m    778\u001b[0m       \u001b[0;32melse\u001b[0m\u001b[0;34m:\u001b[0m\u001b[0;34m\u001b[0m\u001b[0;34m\u001b[0m\u001b[0m\n\u001b[1;32m    779\u001b[0m         \u001b[0mcompiler\u001b[0m \u001b[0;34m=\u001b[0m \u001b[0;34m\"nonXla\"\u001b[0m\u001b[0;34m\u001b[0m\u001b[0;34m\u001b[0m\u001b[0m\n\u001b[0;32m--> 780\u001b[0;31m         \u001b[0mresult\u001b[0m \u001b[0;34m=\u001b[0m \u001b[0mself\u001b[0m\u001b[0;34m.\u001b[0m\u001b[0m_call\u001b[0m\u001b[0;34m(\u001b[0m\u001b[0;34m*\u001b[0m\u001b[0margs\u001b[0m\u001b[0;34m,\u001b[0m \u001b[0;34m**\u001b[0m\u001b[0mkwds\u001b[0m\u001b[0;34m)\u001b[0m\u001b[0;34m\u001b[0m\u001b[0;34m\u001b[0m\u001b[0m\n\u001b[0m\u001b[1;32m    781\u001b[0m \u001b[0;34m\u001b[0m\u001b[0m\n\u001b[1;32m    782\u001b[0m       \u001b[0mnew_tracing_count\u001b[0m \u001b[0;34m=\u001b[0m \u001b[0mself\u001b[0m\u001b[0;34m.\u001b[0m\u001b[0m_get_tracing_count\u001b[0m\u001b[0;34m(\u001b[0m\u001b[0;34m)\u001b[0m\u001b[0;34m\u001b[0m\u001b[0;34m\u001b[0m\u001b[0m\n",
      "\u001b[0;32m~/virtualenvironment/project_1/lib/python3.6/site-packages/tensorflow/python/eager/def_function.py\u001b[0m in \u001b[0;36m_call\u001b[0;34m(self, *args, **kwds)\u001b[0m\n\u001b[1;32m    805\u001b[0m       \u001b[0;31m# In this case we have created variables on the first call, so we run the\u001b[0m\u001b[0;34m\u001b[0m\u001b[0;34m\u001b[0m\u001b[0;34m\u001b[0m\u001b[0m\n\u001b[1;32m    806\u001b[0m       \u001b[0;31m# defunned version which is guaranteed to never create variables.\u001b[0m\u001b[0;34m\u001b[0m\u001b[0;34m\u001b[0m\u001b[0;34m\u001b[0m\u001b[0m\n\u001b[0;32m--> 807\u001b[0;31m       \u001b[0;32mreturn\u001b[0m \u001b[0mself\u001b[0m\u001b[0;34m.\u001b[0m\u001b[0m_stateless_fn\u001b[0m\u001b[0;34m(\u001b[0m\u001b[0;34m*\u001b[0m\u001b[0margs\u001b[0m\u001b[0;34m,\u001b[0m \u001b[0;34m**\u001b[0m\u001b[0mkwds\u001b[0m\u001b[0;34m)\u001b[0m  \u001b[0;31m# pylint: disable=not-callable\u001b[0m\u001b[0;34m\u001b[0m\u001b[0;34m\u001b[0m\u001b[0m\n\u001b[0m\u001b[1;32m    808\u001b[0m     \u001b[0;32melif\u001b[0m \u001b[0mself\u001b[0m\u001b[0;34m.\u001b[0m\u001b[0m_stateful_fn\u001b[0m \u001b[0;32mis\u001b[0m \u001b[0;32mnot\u001b[0m \u001b[0;32mNone\u001b[0m\u001b[0;34m:\u001b[0m\u001b[0;34m\u001b[0m\u001b[0;34m\u001b[0m\u001b[0m\n\u001b[1;32m    809\u001b[0m       \u001b[0;31m# Release the lock early so that multiple threads can perform the call\u001b[0m\u001b[0;34m\u001b[0m\u001b[0;34m\u001b[0m\u001b[0;34m\u001b[0m\u001b[0m\n",
      "\u001b[0;32m~/virtualenvironment/project_1/lib/python3.6/site-packages/tensorflow/python/eager/function.py\u001b[0m in \u001b[0;36m__call__\u001b[0;34m(self, *args, **kwargs)\u001b[0m\n\u001b[1;32m   2827\u001b[0m     \u001b[0;32mwith\u001b[0m \u001b[0mself\u001b[0m\u001b[0;34m.\u001b[0m\u001b[0m_lock\u001b[0m\u001b[0;34m:\u001b[0m\u001b[0;34m\u001b[0m\u001b[0;34m\u001b[0m\u001b[0m\n\u001b[1;32m   2828\u001b[0m       \u001b[0mgraph_function\u001b[0m\u001b[0;34m,\u001b[0m \u001b[0margs\u001b[0m\u001b[0;34m,\u001b[0m \u001b[0mkwargs\u001b[0m \u001b[0;34m=\u001b[0m \u001b[0mself\u001b[0m\u001b[0;34m.\u001b[0m\u001b[0m_maybe_define_function\u001b[0m\u001b[0;34m(\u001b[0m\u001b[0margs\u001b[0m\u001b[0;34m,\u001b[0m \u001b[0mkwargs\u001b[0m\u001b[0;34m)\u001b[0m\u001b[0;34m\u001b[0m\u001b[0;34m\u001b[0m\u001b[0m\n\u001b[0;32m-> 2829\u001b[0;31m     \u001b[0;32mreturn\u001b[0m \u001b[0mgraph_function\u001b[0m\u001b[0;34m.\u001b[0m\u001b[0m_filtered_call\u001b[0m\u001b[0;34m(\u001b[0m\u001b[0margs\u001b[0m\u001b[0;34m,\u001b[0m \u001b[0mkwargs\u001b[0m\u001b[0;34m)\u001b[0m  \u001b[0;31m# pylint: disable=protected-access\u001b[0m\u001b[0;34m\u001b[0m\u001b[0;34m\u001b[0m\u001b[0m\n\u001b[0m\u001b[1;32m   2830\u001b[0m \u001b[0;34m\u001b[0m\u001b[0m\n\u001b[1;32m   2831\u001b[0m   \u001b[0;34m@\u001b[0m\u001b[0mproperty\u001b[0m\u001b[0;34m\u001b[0m\u001b[0;34m\u001b[0m\u001b[0m\n",
      "\u001b[0;32m~/virtualenvironment/project_1/lib/python3.6/site-packages/tensorflow/python/eager/function.py\u001b[0m in \u001b[0;36m_filtered_call\u001b[0;34m(self, args, kwargs, cancellation_manager)\u001b[0m\n\u001b[1;32m   1846\u001b[0m                            resource_variable_ops.BaseResourceVariable))],\n\u001b[1;32m   1847\u001b[0m         \u001b[0mcaptured_inputs\u001b[0m\u001b[0;34m=\u001b[0m\u001b[0mself\u001b[0m\u001b[0;34m.\u001b[0m\u001b[0mcaptured_inputs\u001b[0m\u001b[0;34m,\u001b[0m\u001b[0;34m\u001b[0m\u001b[0;34m\u001b[0m\u001b[0m\n\u001b[0;32m-> 1848\u001b[0;31m         cancellation_manager=cancellation_manager)\n\u001b[0m\u001b[1;32m   1849\u001b[0m \u001b[0;34m\u001b[0m\u001b[0m\n\u001b[1;32m   1850\u001b[0m   \u001b[0;32mdef\u001b[0m \u001b[0m_call_flat\u001b[0m\u001b[0;34m(\u001b[0m\u001b[0mself\u001b[0m\u001b[0;34m,\u001b[0m \u001b[0margs\u001b[0m\u001b[0;34m,\u001b[0m \u001b[0mcaptured_inputs\u001b[0m\u001b[0;34m,\u001b[0m \u001b[0mcancellation_manager\u001b[0m\u001b[0;34m=\u001b[0m\u001b[0;32mNone\u001b[0m\u001b[0;34m)\u001b[0m\u001b[0;34m:\u001b[0m\u001b[0;34m\u001b[0m\u001b[0;34m\u001b[0m\u001b[0m\n",
      "\u001b[0;32m~/virtualenvironment/project_1/lib/python3.6/site-packages/tensorflow/python/eager/function.py\u001b[0m in \u001b[0;36m_call_flat\u001b[0;34m(self, args, captured_inputs, cancellation_manager)\u001b[0m\n\u001b[1;32m   1922\u001b[0m       \u001b[0;31m# No tape is watching; skip to running the function.\u001b[0m\u001b[0;34m\u001b[0m\u001b[0;34m\u001b[0m\u001b[0;34m\u001b[0m\u001b[0m\n\u001b[1;32m   1923\u001b[0m       return self._build_call_outputs(self._inference_function.call(\n\u001b[0;32m-> 1924\u001b[0;31m           ctx, args, cancellation_manager=cancellation_manager))\n\u001b[0m\u001b[1;32m   1925\u001b[0m     forward_backward = self._select_forward_and_backward_functions(\n\u001b[1;32m   1926\u001b[0m         \u001b[0margs\u001b[0m\u001b[0;34m,\u001b[0m\u001b[0;34m\u001b[0m\u001b[0;34m\u001b[0m\u001b[0m\n",
      "\u001b[0;32m~/virtualenvironment/project_1/lib/python3.6/site-packages/tensorflow/python/eager/function.py\u001b[0m in \u001b[0;36mcall\u001b[0;34m(self, ctx, args, cancellation_manager)\u001b[0m\n\u001b[1;32m    548\u001b[0m               \u001b[0minputs\u001b[0m\u001b[0;34m=\u001b[0m\u001b[0margs\u001b[0m\u001b[0;34m,\u001b[0m\u001b[0;34m\u001b[0m\u001b[0;34m\u001b[0m\u001b[0m\n\u001b[1;32m    549\u001b[0m               \u001b[0mattrs\u001b[0m\u001b[0;34m=\u001b[0m\u001b[0mattrs\u001b[0m\u001b[0;34m,\u001b[0m\u001b[0;34m\u001b[0m\u001b[0;34m\u001b[0m\u001b[0m\n\u001b[0;32m--> 550\u001b[0;31m               ctx=ctx)\n\u001b[0m\u001b[1;32m    551\u001b[0m         \u001b[0;32melse\u001b[0m\u001b[0;34m:\u001b[0m\u001b[0;34m\u001b[0m\u001b[0;34m\u001b[0m\u001b[0m\n\u001b[1;32m    552\u001b[0m           outputs = execute.execute_with_cancellation(\n",
      "\u001b[0;32m~/virtualenvironment/project_1/lib/python3.6/site-packages/tensorflow/python/eager/execute.py\u001b[0m in \u001b[0;36mquick_execute\u001b[0;34m(op_name, num_outputs, inputs, attrs, ctx, name)\u001b[0m\n\u001b[1;32m     58\u001b[0m     \u001b[0mctx\u001b[0m\u001b[0;34m.\u001b[0m\u001b[0mensure_initialized\u001b[0m\u001b[0;34m(\u001b[0m\u001b[0;34m)\u001b[0m\u001b[0;34m\u001b[0m\u001b[0;34m\u001b[0m\u001b[0m\n\u001b[1;32m     59\u001b[0m     tensors = pywrap_tfe.TFE_Py_Execute(ctx._handle, device_name, op_name,\n\u001b[0;32m---> 60\u001b[0;31m                                         inputs, attrs, num_outputs)\n\u001b[0m\u001b[1;32m     61\u001b[0m   \u001b[0;32mexcept\u001b[0m \u001b[0mcore\u001b[0m\u001b[0;34m.\u001b[0m\u001b[0m_NotOkStatusException\u001b[0m \u001b[0;32mas\u001b[0m \u001b[0me\u001b[0m\u001b[0;34m:\u001b[0m\u001b[0;34m\u001b[0m\u001b[0;34m\u001b[0m\u001b[0m\n\u001b[1;32m     62\u001b[0m     \u001b[0;32mif\u001b[0m \u001b[0mname\u001b[0m \u001b[0;32mis\u001b[0m \u001b[0;32mnot\u001b[0m \u001b[0;32mNone\u001b[0m\u001b[0;34m:\u001b[0m\u001b[0;34m\u001b[0m\u001b[0;34m\u001b[0m\u001b[0m\n",
      "\u001b[0;31mKeyboardInterrupt\u001b[0m: "
     ]
    }
   ],
   "source": [
    "model2.fit(X_train, y_train, batch_size = 32, validation_data =validation_tup, epochs=20, verbose=1, shuffle=True)"
   ]
  },
  {
   "cell_type": "code",
   "execution_count": null,
   "metadata": {},
   "outputs": [],
   "source": []
  },
  {
   "cell_type": "code",
   "execution_count": null,
   "metadata": {},
   "outputs": [],
   "source": []
  },
  {
   "cell_type": "code",
   "execution_count": null,
   "metadata": {},
   "outputs": [],
   "source": []
  },
  {
   "cell_type": "code",
   "execution_count": null,
   "metadata": {},
   "outputs": [],
   "source": []
  },
  {
   "cell_type": "code",
   "execution_count": null,
   "metadata": {
    "id": "4-BeUkyKM8RR"
   },
   "outputs": [],
   "source": [
    "import datetime\n",
    "\n",
    "class MyCustomCallback(tf.keras.callbacks.Callback):\n",
    "    def on_train_begin(self, epoch, logs={}):\n",
    "\n",
    "        res_dir = \"intermediate_results_black_background\"\n",
    "\n",
    "        try:\n",
    "            os.makedirs(res_dir)\n",
    "        except:\n",
    "            print(f\"{res_dir} directory already exist\")\n",
    "\n",
    "        print('Training: epoch {} begins at {}'.format(epoch, datetime.datetime.now().time()))\n",
    "\n",
    "    def on_epoch_end(self, epoch, logs=None):\n",
    "        res_dir = \"intermediate_results_black_background/\"\n",
    "        print('Training: epoch {} ends at {}'.format(epoch, datetime.datetime.now().time()))\n",
    "        \n",
    "        for x_test, y_test in keras_generator_train_val_test(batch_size, choice=\"test\"):\n",
    "            break\n",
    "        p = np.reshape(x_test[0], (1, 512, 512, 3))\n",
    "        prediction = self.model.predict(p)\n",
    "\n",
    "        x_img = f\"{res_dir}{epoch}_X_input.jpg\"\n",
    "        y_img = f\"{res_dir}{epoch}_Y_truth.jpg\"\n",
    "        predicted_img = f\"{res_dir}{epoch}_Y_predicted.jpg\"\n",
    "\n",
    "        cv2.imwrite(x_img, x_test[0] * 255.)\n",
    "        cv2.imwrite(y_img, y_test['seg'][0] * 255.)\n",
    "        cv2.imwrite(predicted_img, prediction[0] * 255.)"
   ]
  },
  {
   "cell_type": "code",
   "execution_count": null,
   "metadata": {
    "id": "2W7zyRVeM8RT"
   },
   "outputs": [],
   "source": [
    "model_name = \"..\\\\data\\\\Unet_black_background_47_epochs.h5\"\n",
    "\n",
    "batch_size = 2;\n",
    "\n",
    "#modelcheckpoint = ModelCheckpoint(model_name,\n",
    "                                  monitor='val_loss',\n",
    "                                  mode='auto',\n",
    "                                  verbose=1,\n",
    "#                                  save_best_only=True)\n",
    "\n",
    "lr_callback = ReduceLROnPlateau(min_lr=0.000001)\n",
    "\n",
    "#callback_list = [modelcheckpoint, lr_callback, MyCustomCallback()]\n",
    "\n",
    "history = model.fit_generator(\n",
    "    keras_generator_train_val_test(batch_size, choice=\"train\"),\n",
    "    validation_data = keras_generator_train_val_test(batch_size, choice=\"val\"),\n",
    "    validation_steps = 100,\n",
    "    steps_per_epoch=100,\n",
    "    epochs=epochs,\n",
    "    verbose=1, \n",
    "    shuffle=True\n",
    "    #callbacks = callback_list,\n",
    ")"
   ]
  },
  {
   "cell_type": "code",
   "execution_count": null,
   "metadata": {
    "id": "IjzS92XpM8RT"
   },
   "outputs": [],
   "source": []
  },
  {
   "cell_type": "code",
   "execution_count": null,
   "metadata": {
    "id": "lnknhEgvM8RT"
   },
   "outputs": [],
   "source": []
  },
  {
   "cell_type": "code",
   "execution_count": null,
   "metadata": {
    "id": "Ps25gWvlM8RT"
   },
   "outputs": [],
   "source": []
  },
  {
   "cell_type": "code",
   "execution_count": null,
   "metadata": {
    "id": "d11KGAPuM8RU"
   },
   "outputs": [],
   "source": []
  },
  {
   "cell_type": "code",
   "execution_count": null,
   "metadata": {
    "id": "EH1AqM94M8RU"
   },
   "outputs": [],
   "source": []
  },
  {
   "cell_type": "code",
   "execution_count": null,
   "metadata": {
    "id": "fxR32i1gM8RU"
   },
   "outputs": [],
   "source": []
  },
  {
   "cell_type": "code",
   "execution_count": null,
   "metadata": {
    "id": "mZcnijZTM8RU"
   },
   "outputs": [],
   "source": []
  },
  {
   "cell_type": "code",
   "execution_count": null,
   "metadata": {
    "id": "JL_jjkKHM8RU"
   },
   "outputs": [],
   "source": [
    "\n",
    "def keras_generator_train_val_test(batch_size, choice=\"train\"):\n",
    "\n",
    "    if choice == \"train\":\n",
    "        X = X_train\n",
    "        y = y_train\n",
    "    elif choice == \"val\":\n",
    "        X = X_val\n",
    "        y = y_val\n",
    "    else:\n",
    "        print(\"Invalid Option\")\n",
    "        return False\n",
    "        \n",
    "    while True:\n",
    "        x_batch = []\n",
    "        y_batch = []\n",
    "\n",
    "        for i in range(batch_size):\n",
    "            \n",
    "            x = sitk.ReadImage(X[i])\n",
    "            x_np = sitk.GetArrayViewFromImage(x) / 255.\n",
    "            y = sitk.ReadImage(y[i])\n",
    "            y_np = sitk.GetArrayViewFromImage(y) / 255.\n",
    "            \n",
    "            x_batch.append(x_np)\n",
    "            y_batch.append(y_np)\n",
    "\n",
    "        \n",
    "        x_batch = np.array(x_batch)\n",
    "        # y_batch = np.array(y_batch)\n",
    "\n",
    "        y_batch = {'seg': np.array(y_batch),\n",
    "                #    'cls': np.array(classification_list)\n",
    "                }\n",
    "\n",
    "        yield x_batch, y_batch\n",
    "\n",
    "for x, y in keras_generator_train_val_test(2, choice=\"train\"):\n",
    "    break\n",
    "\n",
    "print(x.shape, y['seg'].shape)"
   ]
  }
 ],
 "metadata": {
  "colab": {
   "collapsed_sections": [],
   "name": "Copy of Brats_with_Unet.ipynb",
   "provenance": [
    {
     "file_id": "https://github.com/pablosarricolea/Internships/blob/main/notebooks/Brats_with_Unet.ipynb",
     "timestamp": 1607556725258
    }
   ]
  },
  "kernelspec": {
   "display_name": "project_1",
   "language": "python",
   "name": "project_1"
  },
  "language_info": {
   "codemirror_mode": {
    "name": "ipython",
    "version": 3
   },
   "file_extension": ".py",
   "mimetype": "text/x-python",
   "name": "python",
   "nbconvert_exporter": "python",
   "pygments_lexer": "ipython3",
   "version": "3.6.12"
  }
 },
 "nbformat": 4,
 "nbformat_minor": 1
}
